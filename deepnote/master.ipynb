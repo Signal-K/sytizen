{
 "cells": [
  {
   "cell_type": "code",
   "execution_count": null,
   "metadata": {},
   "outputs": [],
   "source": [
    "import lightkurve as lk"
   ]
  },
  {
   "cell_type": "code",
   "execution_count": null,
   "metadata": {},
   "outputs": [],
   "source": [
    "# Parameters\n",
    "{\n",
    "  \"metadata\": {\n",
    "    \"kernelspec\": {\n",
    "      \"name\": \"python3\",\n",
    "      \"display_name\": \"Python 3\"\n",
    "    }\n",
    "  },\n",
    "  \"cells\": [\n",
    "    {\n",
    "      \"cell_type\": \"code\",\n",
    "      \"metadata\": {},\n",
    "      \"source\": \"import lightkurve as lk\\n\\n# Parameters\\nTIC = 'TIC 274020586' # This value will be replaced by Papermill\\n\\navailable_data_select = lk.search_lightcurve(TIC)[0:2]\\nlc_collection = available_data_select.download_all().stitch()\\nlc_collection\"\n",
    "    }\n",
    "  ]\n",
    "}\n",
    "\n",
    "available_data_select = lk.search_lightcurve(TIC)[0:2]\n",
    "lc_collection = available_data_select.download_all().stitch()\n",
    "lc_collection"
   ]
  }
 ],
 "metadata": {
  "language_info": {
   "name": "python"
  },
  "orig_nbformat": 4
 },
 "nbformat": 4,
 "nbformat_minor": 2
}
