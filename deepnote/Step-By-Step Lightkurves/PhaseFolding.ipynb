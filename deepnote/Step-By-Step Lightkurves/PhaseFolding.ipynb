{
 "cells": [
  {
   "attachments": {},
   "cell_type": "markdown",
   "metadata": {},
   "source": [
    "Phase folding -> Taking multiple periods (1 transit per period) and overlay them on each other"
   ]
  },
  {
   "cell_type": "code",
   "execution_count": 1,
   "metadata": {},
   "outputs": [
    {
     "name": "stderr",
     "output_type": "stream",
     "text": [
      "/opt/homebrew/lib/python3.10/site-packages/lightkurve/config/__init__.py:119: UserWarning: The default Lightkurve cache directory, used by download(), etc., has been moved to /Users/buyer/.lightkurve/cache. Please move all the files in the legacy directory /Users/buyer/.lightkurve-cache to the new location and remove the legacy directory. Refer to https://docs.lightkurve.org/reference/config.html#default-cache-directory-migration for more information.\n",
      "  warnings.warn(\n"
     ]
    }
   ],
   "source": [
    "%matplotlib notebook \n",
    "import matplotlib.pyplot as plt\n",
    "import lightkurve as lk"
   ]
  },
  {
   "attachments": {},
   "cell_type": "markdown",
   "metadata": {},
   "source": [
    "## Setting initial planet & pulling in sector data"
   ]
  },
  {
   "cell_type": "code",
   "execution_count": 2,
   "metadata": {},
   "outputs": [
    {
     "name": "stderr",
     "output_type": "stream",
     "text": [
      "Could not resolve TIC 424865156.01 to a sky position.\n",
      "/opt/homebrew/lib/python3.10/site-packages/lightkurve/search.py:485: LightkurveWarning: Cannot download from an empty search result.\n",
      "  warnings.warn(\n"
     ]
    }
   ],
   "source": [
    "TIC = 'TIC 424865156.01'\n",
    "available_data_select = lk.search_lightcurve(TIC)#, author = 'SPOC')[0:9]\n",
    "lc_collection = available_data_select.download_all()#.stitch() # Stitch the data from each sector onto one graph"
   ]
  },
  {
   "cell_type": "code",
   "execution_count": 3,
   "metadata": {},
   "outputs": [
    {
     "ename": "AttributeError",
     "evalue": "'NoneType' object has no attribute 'plot'",
     "output_type": "error",
     "traceback": [
      "\u001b[0;31m---------------------------------------------------------------------------\u001b[0m",
      "\u001b[0;31mAttributeError\u001b[0m                            Traceback (most recent call last)",
      "Cell \u001b[0;32mIn[3], line 3\u001b[0m\n\u001b[1;32m      1\u001b[0m get_ipython()\u001b[39m.\u001b[39mrun_line_magic(\u001b[39m'\u001b[39m\u001b[39mmatplotlib\u001b[39m\u001b[39m'\u001b[39m, \u001b[39m'\u001b[39m\u001b[39minline\u001b[39m\u001b[39m'\u001b[39m)\n\u001b[1;32m      2\u001b[0m fig, ax \u001b[39m=\u001b[39m plt\u001b[39m.\u001b[39msubplots(figsize \u001b[39m=\u001b[39m (\u001b[39m8\u001b[39m, \u001b[39m4\u001b[39m))\n\u001b[0;32m----> 3\u001b[0m lc_collection\u001b[39m.\u001b[39;49mplot(ax \u001b[39m=\u001b[39m ax, linewidth \u001b[39m=\u001b[39m \u001b[39m0\u001b[39m, marker \u001b[39m=\u001b[39m \u001b[39m0\u001b[39m, color \u001b[39m=\u001b[39m \u001b[39m'\u001b[39m\u001b[39mpink\u001b[39m\u001b[39m'\u001b[39m, markersize \u001b[39m=\u001b[39m \u001b[39m1\u001b[39m, alpha \u001b[39m=\u001b[39m \u001b[39m0.8\u001b[39m)\n",
      "\u001b[0;31mAttributeError\u001b[0m: 'NoneType' object has no attribute 'plot'"
     ]
    },
    {
     "data": {
      "image/png": "[encoded data removed]",
      "text/plain": [
       "<Figure size 800x400 with 1 Axes>"
      ]
     },
     "metadata": {},
     "output_type": "display_data"
    }
   ],
   "source": [
    "%matplotlib inline\n",
    "fig, ax = plt.subplots(figsize = (8, 4))\n",
    "lc_collection.plot(ax = ax, linewidth = 0, marker = 0, color = 'pink', markersize = 1, alpha = 0.8)"
   ]
  },
  {
   "attachments": {},
   "cell_type": "markdown",
   "metadata": {},
   "source": [
    "## Phase folding the object"
   ]
  },
  {
   "cell_type": "code",
   "execution_count": null,
   "metadata": {},
   "outputs": [],
   "source": [
    "period = 83.8979 # Get this from ExoFop -> are there IDs that aren't known?\n",
    "t0 = 2125.847 # time of first transit"
   ]
  },
  {
   "cell_type": "code",
   "execution_count": null,
   "metadata": {},
   "outputs": [],
   "source": [
    "lc_phased = lc_collection.fold(period = period, epoch_time = t0)"
   ]
  },
  {
   "cell_type": "code",
   "execution_count": null,
   "metadata": {},
   "outputs": [],
   "source": [
    "%matplotlib inline\n",
    "fig, ax = plt.subplots()\n",
    "lc_phased.plot(ax = ax, linewidth = 0, marker = 0, color = 'pink', markersize = 1, alpha = 0.8)"
   ]
  },
  {
   "attachments": {},
   "cell_type": "markdown",
   "metadata": {},
   "source": [
    "### Binning phased data"
   ]
  },
  {
   "cell_type": "code",
   "execution_count": null,
   "metadata": {},
   "outputs": [],
   "source": [
    "bin_time = 15/24/60 # Set the bin time in units of days\n",
    "lc_phased_binned = lc_phased.bin(bin_time)"
   ]
  },
  {
   "cell_type": "code",
   "execution_count": null,
   "metadata": {},
   "outputs": [],
   "source": [
    "%matplotlib inline\n",
    "fig, ax = plt.subplots(figsize = (8, 5)) # Determine impact on data shown by changing this field\n",
    "lc_phased.plot(ax = ax, linewidth = 0, marker = '.', color = 'pink', markersize = 1, alpha = 0.25, label = 'Phased, Unbinned')\n",
    "lc_phased_binned.plot(ax = ax, linewidth = 0, marker = 'o', color = 'gold', markersize = 1.3, alpha = 0.999, label = 'Phased, Binned')"
   ]
  },
  {
   "attachments": {},
   "cell_type": "markdown",
   "metadata": {},
   "source": [
    "### Remove scatter\n",
    "Since the curve has been phase folded, only the data from around t0 (0 on x axis) is really required as that is where a transit event is happening.\n",
    "Of course this needs to be tweaked in the case of multiple planetary systems..."
   ]
  },
  {
   "cell_type": "code",
   "execution_count": null,
   "metadata": {},
   "outputs": [],
   "source": [
    "%matplotlib inline\n",
    "fig, ax = plt.subplots(figsize = (8, 5)) # Determine impact on data shown by changing this field\n",
    "lc_phased.plot(ax = ax, linewidth = 0, marker = '.', color = 'pink', markersize = 1, alpha = 0.8, label = 'Phased, Unbinned')\n",
    "lc_phased_binned.plot(ax = ax, linewidth = 0, marker = 'o', color = 'gold', markersize = 1.3, alpha = 1, label = 'Phased, Binned')\n",
    "\n",
    "plt.xlim(-2, 2)\n",
    "plt.ylim(0.996, 1.004)"
   ]
  },
  {
   "attachments": {},
   "cell_type": "markdown",
   "metadata": {},
   "source": [
    "Use these graphs to determine the radius lol\n",
    "\n",
    "/jk there's more data we can use"
   ]
  }
 ],
 "metadata": {
  "kernelspec": {
   "display_name": "Python 3",
   "language": "python",
   "name": "python3"
  },
  "language_info": {
   "codemirror_mode": {
    "name": "ipython",
    "version": 3
   },
   "file_extension": ".py",
   "mimetype": "text/x-python",
   "name": "python",
   "nbconvert_exporter": "python",
   "pygments_lexer": "ipython3",
   "version": "3.10.12"
  },
  "orig_nbformat": 4
 },
 "nbformat": 4,
 "nbformat_minor": 2
}
