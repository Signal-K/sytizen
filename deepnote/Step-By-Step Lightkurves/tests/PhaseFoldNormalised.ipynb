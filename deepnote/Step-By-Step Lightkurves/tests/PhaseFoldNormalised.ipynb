{
 "cells": [
  {
   "cell_type": "code",
   "execution_count": 1,
   "metadata": {},
   "outputs": [
    {
     "name": "stderr",
     "output_type": "stream",
     "text": [
      "/opt/homebrew/lib/python3.10/site-packages/lightkurve/config/__init__.py:119: UserWarning: The default Lightkurve cache directory, used by download(), etc., has been moved to /Users/buyer/.lightkurve/cache. Please move all the files in the legacy directory /Users/buyer/.lightkurve-cache to the new location and remove the legacy directory. Refer to https://docs.lightkurve.org/reference/config.html#default-cache-directory-migration for more information.\n",
      "  warnings.warn(\n"
     ]
    }
   ],
   "source": [
    "import lightkurve as lk\n",
    "import matplotlib.pyplot as plt"
   ]
  },
  {
   "cell_type": "code",
   "execution_count": 2,
   "metadata": {},
   "outputs": [
    {
     "name": "stderr",
     "output_type": "stream",
     "text": [
      "/opt/homebrew/lib/python3.10/site-packages/lightkurve/search.py:414: LightkurveWarning: Warning: 17 files available to download. Only the first file has been downloaded. Please use `download_all()` or specify additional criteria (e.g. quarter, campaign, or sector) to limit your search.\n",
      "  warnings.warn(\n"
     ]
    }
   ],
   "source": [
    "# Define the target and download the light curve data\n",
    "target = \"KOI-1144.01\"  # The KOI ID for KOI 11446443\n",
    "lc = lk.search_lightcurve(target, mission=\"Kepler\").download()\n",
    "\n",
    "# Remove NaNs and outliers, then flatten the light curve\n",
    "lc_clean = lc.remove_nans().remove_outliers(sigma=5).flatten()"
   ]
  },
  {
   "cell_type": "code",
   "execution_count": 4,
   "metadata": {},
   "outputs": [
    {
     "name": "stderr",
     "output_type": "stream",
     "text": [
      "/var/folders/j4/yy1t9r_94lbdqw62jlv9gmrm0000gn/T/ipykernel_37880/2411584538.py:10: LightkurveDeprecationWarning: \"binsize\" was deprecated in version 2.0 and will be removed in a future version. \n",
      "        Use time_bin_size instead.\n",
      "  binned = folded_lc.bin(binsize=bin_size)\n"
     ]
    },
    {
     "ename": "TypeError",
     "evalue": "slice indices must be integers or None or have an __index__ method",
     "output_type": "error",
     "traceback": [
      "\u001b[0;31m---------------------------------------------------------------------------\u001b[0m",
      "\u001b[0;31mTypeError\u001b[0m                                 Traceback (most recent call last)",
      "Cell \u001b[0;32mIn[4], line 10\u001b[0m\n\u001b[1;32m      8\u001b[0m \u001b[39m# Binning the phase-folded light curve\u001b[39;00m\n\u001b[1;32m      9\u001b[0m bin_size \u001b[39m=\u001b[39m \u001b[39m0.002\u001b[39m  \u001b[39m# Adjust the bin size based on your preference\u001b[39;00m\n\u001b[0;32m---> 10\u001b[0m binned \u001b[39m=\u001b[39m folded_lc\u001b[39m.\u001b[39;49mbin(binsize\u001b[39m=\u001b[39;49mbin_size)\n",
      "File \u001b[0;32m/opt/homebrew/lib/python3.10/site-packages/astropy/utils/decorators.py:607\u001b[0m, in \u001b[0;36mdeprecated_renamed_argument.<locals>.decorator.<locals>.wrapper\u001b[0;34m(*args, **kwargs)\u001b[0m\n\u001b[1;32m    604\u001b[0m             msg \u001b[39m+\u001b[39m\u001b[39m=\u001b[39m \u001b[39mf\u001b[39m\u001b[39m\"\u001b[39m\u001b[39m\\n\u001b[39;00m\u001b[39m        Use \u001b[39m\u001b[39m{\u001b[39;00malternative\u001b[39m}\u001b[39;00m\u001b[39m instead.\u001b[39m\u001b[39m\"\u001b[39m\n\u001b[1;32m    605\u001b[0m         warnings\u001b[39m.\u001b[39mwarn(msg, warning_type, stacklevel\u001b[39m=\u001b[39m\u001b[39m2\u001b[39m)\n\u001b[0;32m--> 607\u001b[0m \u001b[39mreturn\u001b[39;00m function(\u001b[39m*\u001b[39;49margs, \u001b[39m*\u001b[39;49m\u001b[39m*\u001b[39;49mkwargs)\n",
      "File \u001b[0;32m/opt/homebrew/lib/python3.10/site-packages/lightkurve/lightcurve.py:1541\u001b[0m, in \u001b[0;36mLightCurve.bin\u001b[0;34m(self, time_bin_size, time_bin_start, time_bin_end, n_bins, aggregate_func, bins, binsize)\u001b[0m\n\u001b[1;32m   1539\u001b[0m \u001b[39melif\u001b[39;00m binsize \u001b[39mis\u001b[39;00m \u001b[39mnot\u001b[39;00m \u001b[39mNone\u001b[39;00m:\n\u001b[1;32m   1540\u001b[0m     \u001b[39mif\u001b[39;00m _HAS_VAR_BINS:\n\u001b[0;32m-> 1541\u001b[0m         time_bin_start \u001b[39m=\u001b[39m \u001b[39mself\u001b[39;49m\u001b[39m.\u001b[39;49mtime[::binsize]\n\u001b[1;32m   1542\u001b[0m     \u001b[39melse\u001b[39;00m:\n\u001b[1;32m   1543\u001b[0m         warnings\u001b[39m.\u001b[39mwarn(\n\u001b[1;32m   1544\u001b[0m             \u001b[39m'\u001b[39m\u001b[39m`binsize` requires Astropy 5.0 to guarantee equal number of points; \u001b[39m\u001b[39m'\u001b[39m\n\u001b[1;32m   1545\u001b[0m             \u001b[39m'\u001b[39m\u001b[39mwill use estimated time lengths for bins.\u001b[39m\u001b[39m'\u001b[39m, LightkurveWarning)\n",
      "File \u001b[0;32m/opt/homebrew/lib/python3.10/site-packages/astropy/utils/shapes.py:223\u001b[0m, in \u001b[0;36mShapedLikeNDArray.__getitem__\u001b[0;34m(self, item)\u001b[0m\n\u001b[1;32m    221\u001b[0m \u001b[39mdef\u001b[39;00m \u001b[39m__getitem__\u001b[39m(\u001b[39mself\u001b[39m, item):\n\u001b[1;32m    222\u001b[0m     \u001b[39mtry\u001b[39;00m:\n\u001b[0;32m--> 223\u001b[0m         \u001b[39mreturn\u001b[39;00m \u001b[39mself\u001b[39;49m\u001b[39m.\u001b[39;49m_apply(\u001b[39m\"\u001b[39;49m\u001b[39m__getitem__\u001b[39;49m\u001b[39m\"\u001b[39;49m, item)\n\u001b[1;32m    224\u001b[0m     \u001b[39mexcept\u001b[39;00m \u001b[39mIndexError\u001b[39;00m:\n\u001b[1;32m    225\u001b[0m         \u001b[39mif\u001b[39;00m \u001b[39mself\u001b[39m\u001b[39m.\u001b[39misscalar:\n",
      "File \u001b[0;32m/opt/homebrew/lib/python3.10/site-packages/astropy/time/core.py:1276\u001b[0m, in \u001b[0;36mTimeBase._apply\u001b[0;34m(self, method, format, cls, *args, **kwargs)\u001b[0m\n\u001b[1;32m   1274\u001b[0m jd1, jd2 \u001b[39m=\u001b[39m \u001b[39mself\u001b[39m\u001b[39m.\u001b[39m_time\u001b[39m.\u001b[39mjd1, \u001b[39mself\u001b[39m\u001b[39m.\u001b[39m_time\u001b[39m.\u001b[39mjd2\n\u001b[1;32m   1275\u001b[0m \u001b[39mif\u001b[39;00m apply_method:\n\u001b[0;32m-> 1276\u001b[0m     jd1 \u001b[39m=\u001b[39m apply_method(jd1)\n\u001b[1;32m   1277\u001b[0m     jd2 \u001b[39m=\u001b[39m apply_method(jd2)\n\u001b[1;32m   1279\u001b[0m \u001b[39m# Get a new instance of our class and set its attributes directly.\u001b[39;00m\n",
      "\u001b[0;31mTypeError\u001b[0m: slice indices must be integers or None or have an __index__ method"
     ]
    }
   ],
   "source": [
    "# Create a periodogram to find the best period\n",
    "periodogram = lc_clean.to_periodogram()\n",
    "best_period = periodogram.period_at_max_power.value\n",
    "\n",
    "# Phase fold the light curve using the best period\n",
    "folded_lc = lc_clean.fold(period=best_period)\n",
    "\n",
    "# Binning the phase-folded light curve\n",
    "bin_size = 0.002  # Adjust the bin size based on your preference\n",
    "binned = folded_lc.bin(binsize=bin_size)"
   ]
  },
  {
   "cell_type": "code",
   "execution_count": 3,
   "metadata": {},
   "outputs": [
    {
     "ename": "NameError",
     "evalue": "name 'lc_flat' is not defined",
     "output_type": "error",
     "traceback": [
      "\u001b[0;31m---------------------------------------------------------------------------\u001b[0m",
      "\u001b[0;31mNameError\u001b[0m                                 Traceback (most recent call last)",
      "Cell \u001b[0;32mIn[3], line 2\u001b[0m\n\u001b[1;32m      1\u001b[0m \u001b[39m# Phase fold the light curve using the best period\u001b[39;00m\n\u001b[0;32m----> 2\u001b[0m folded_lc \u001b[39m=\u001b[39m lc_flat\u001b[39m.\u001b[39mfold(period\u001b[39m=\u001b[39mbest_period)\n\u001b[1;32m      4\u001b[0m \u001b[39m# Binning the phase-folded light curve\u001b[39;00m\n\u001b[1;32m      5\u001b[0m bin_size \u001b[39m=\u001b[39m \u001b[39m0.002\u001b[39m  \u001b[39m# Adjust the bin size based on your preference\u001b[39;00m\n",
      "\u001b[0;31mNameError\u001b[0m: name 'lc_flat' is not defined"
     ]
    }
   ],
   "source": [
    "# Phase fold the light curve using the best period\n",
    "folded_lc = lc_flat.fold(period=best_period)\n",
    "\n",
    "# Binning the phase-folded light curve\n",
    "bin_size = 0.002  # Adjust the bin size based on your preference\n",
    "binned = folded_lc.bin(binsize=bin_size)\n",
    "\n",
    "# Plotting the phase-folded and binned light curve\n",
    "plt.figure(figsize=(12, 6))\n",
    "plt.subplot(2, 1, 1)\n",
    "plt.plot(folded_lc.time, folded_lc.flux, 'ko', markersize=3)\n",
    "plt.xlabel(\"Phase\")\n",
    "plt.ylabel(\"Flux\")\n",
    "plt.title(\"Phase Folded Light Curve\")\n",
    "\n",
    "plt.subplot(2, 1, 2)\n",
    "plt.plot(binned.time, binned.flux, 'ko', markersize=5)\n",
    "plt.xlabel(\"Phase\")\n",
    "plt.ylabel(\"Flux\")\n",
    "plt.title(f\"Phase Folded and Binned Light Curve (bin size={bin_size})\")\n",
    "\n",
    "plt.tight_layout()\n",
    "plt.show()"
   ]
  }
 ],
 "metadata": {
  "kernelspec": {
   "display_name": ".venv",
   "language": "python",
   "name": "python3"
  },
  "language_info": {
   "codemirror_mode": {
    "name": "ipython",
    "version": 3
   },
   "file_extension": ".py",
   "mimetype": "text/x-python",
   "name": "python",
   "nbconvert_exporter": "python",
   "pygments_lexer": "ipython3",
   "version": "3.10.12"
  },
  "orig_nbformat": 4
 },
 "nbformat": 4,
 "nbformat_minor": 2
}
