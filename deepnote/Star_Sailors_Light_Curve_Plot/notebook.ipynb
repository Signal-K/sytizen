{
  "cells": [
    {
      "cell_type": "markdown",
      "source": "# Lightcurve Manipulation",
      "metadata": {
        "tags": [],
        "cell_id": "165da6399859440aa246508d152ba313",
        "is_collapsed": false,
        "owner_user_id": "307d5faf-e0d0-45a9-b548-fa6e6f85d26c",
        "formattedRanges": [],
        "deepnote_app_coordinates": {
          "h": 3,
          "w": 12,
          "x": 0,
          "y": 0
        },
        "deepnote_cell_type": "text-cell-h1"
      }
    },
    {
      "cell_type": "code",
      "source": "#%matplotlib notebook\n# github.com/signal-k/polygon\n!pip install lightkurve\n\nimport matplotlib.pyplot as plt\nimport lightkurve as lk\n",
      "metadata": {
        "tags": [],
        "cell_id": "298e03f8cb4c46ab8c46c499922ef9cb",
        "source_hash": "4c6fa7bf",
        "execution_start": 1678378293889,
        "execution_millis": 4008,
        "is_output_hidden": true,
        "deepnote_to_be_reexecuted": false,
        "deepnote_cell_type": "code"
      },
      "outputs": [
        {
          "name": "stdout",
          "text": "Requirement already satisfied: lightkurve in /root/venv/lib/python3.7/site-packages (2.0.11)\nRequirement already satisfied: uncertainties>=3.1.4 in /root/venv/lib/python3.7/site-packages (from lightkurve) (3.1.7)\nRequirement already satisfied: oktopus>=0.1.2 in /root/venv/lib/python3.7/site-packages (from lightkurve) (0.1.2)\nRequirement already satisfied: astroquery>=0.3.10 in /root/venv/lib/python3.7/site-packages (from lightkurve) (0.4.6)\nRequirement already satisfied: pandas>=1.1.4 in /shared-libs/python3.7/py/lib/python3.7/site-packages (from lightkurve) (1.2.5)\nRequirement already satisfied: scikit-learn>=0.24.0 in /shared-libs/python3.7/py/lib/python3.7/site-packages (from lightkurve) (1.0.2)\nRequirement already satisfied: tqdm>=4.25.0 in /shared-libs/python3.7/py/lib/python3.7/site-packages (from lightkurve) (4.64.1)\nRequirement already satisfied: memoization>=0.3.1 in /root/venv/lib/python3.7/site-packages (from lightkurve) (0.4.0)\nRequirement already satisfied: bokeh>=1.0 in /root/venv/lib/python3.7/site-packages (from lightkurve) (2.4.3)\nRequirement already satisfied: matplotlib>=1.5.3 in /shared-libs/python3.7/py/lib/python3.7/site-packages (from lightkurve) (3.5.3)\nRequirement already satisfied: scipy>=0.19.0 in /shared-libs/python3.7/py/lib/python3.7/site-packages (from lightkurve) (1.7.3)\nRequirement already satisfied: astropy>=4.1 in /root/venv/lib/python3.7/site-packages (from lightkurve) (4.3.1)\nRequirement already satisfied: beautifulsoup4>=4.6.0 in /shared-libs/python3.7/py-core/lib/python3.7/site-packages (from lightkurve) (4.11.1)\nRequirement already satisfied: numpy>=1.11 in /shared-libs/python3.7/py/lib/python3.7/site-packages (from lightkurve) (1.21.6)\nRequirement already satisfied: requests>=2.22.0 in /shared-libs/python3.7/py/lib/python3.7/site-packages (from lightkurve) (2.28.1)\nRequirement already satisfied: fbpca>=1.0 in /root/venv/lib/python3.7/site-packages (from lightkurve) (1.0)\nRequirement already satisfied: patsy>=0.5.0 in /root/venv/lib/python3.7/site-packages (from lightkurve) (0.5.3)\nRequirement already satisfied: importlib-metadata in /shared-libs/python3.7/py-core/lib/python3.7/site-packages (from astropy>=4.1->lightkurve) (5.0.0)\nRequirement already satisfied: pyerfa>=1.7.3 in /root/venv/lib/python3.7/site-packages (from astropy>=4.1->lightkurve) (2.0.0.1)\nRequirement already satisfied: html5lib>=0.999 in /root/venv/lib/python3.7/site-packages (from astroquery>=0.3.10->lightkurve) (1.1)\nRequirement already satisfied: keyring>=4.0 in /root/venv/lib/python3.7/site-packages (from astroquery>=0.3.10->lightkurve) (23.13.1)\nRequirement already satisfied: pyvo>=1.1 in /root/venv/lib/python3.7/site-packages (from astroquery>=0.3.10->lightkurve) (1.2.1)\nRequirement already satisfied: soupsieve>1.2 in /shared-libs/python3.7/py-core/lib/python3.7/site-packages (from beautifulsoup4>=4.6.0->lightkurve) (2.3.2.post1)\nRequirement already satisfied: packaging>=16.8 in /shared-libs/python3.7/py-core/lib/python3.7/site-packages (from bokeh>=1.0->lightkurve) (21.3)\nRequirement already satisfied: typing-extensions>=3.10.0 in /shared-libs/python3.7/py-core/lib/python3.7/site-packages (from bokeh>=1.0->lightkurve) (4.4.0)\nRequirement already satisfied: pillow>=7.1.0 in /shared-libs/python3.7/py/lib/python3.7/site-packages (from bokeh>=1.0->lightkurve) (9.2.0)\nRequirement already satisfied: Jinja2>=2.9 in /shared-libs/python3.7/py-core/lib/python3.7/site-packages (from bokeh>=1.0->lightkurve) (2.11.3)\nRequirement already satisfied: tornado>=5.1 in /shared-libs/python3.7/py-core/lib/python3.7/site-packages (from bokeh>=1.0->lightkurve) (6.2)\nRequirement already satisfied: PyYAML>=3.10 in /root/venv/lib/python3.7/site-packages (from bokeh>=1.0->lightkurve) (6.0)\nRequirement already satisfied: python-dateutil>=2.7 in /shared-libs/python3.7/py-core/lib/python3.7/site-packages (from matplotlib>=1.5.3->lightkurve) (2.8.2)\nRequirement already satisfied: cycler>=0.10 in /shared-libs/python3.7/py/lib/python3.7/site-packages (from matplotlib>=1.5.3->lightkurve) (0.11.0)\nRequirement already satisfied: pyparsing>=2.2.1 in /shared-libs/python3.7/py-core/lib/python3.7/site-packages (from matplotlib>=1.5.3->lightkurve) (3.0.9)\nRequirement already satisfied: fonttools>=4.22.0 in /shared-libs/python3.7/py/lib/python3.7/site-packages (from matplotlib>=1.5.3->lightkurve) (4.37.4)\nRequirement already satisfied: kiwisolver>=1.0.1 in /shared-libs/python3.7/py/lib/python3.7/site-packages (from matplotlib>=1.5.3->lightkurve) (1.4.4)\nRequirement already satisfied: autograd in /root/venv/lib/python3.7/site-packages (from oktopus>=0.1.2->lightkurve) (1.5)\nRequirement already satisfied: pytz>=2017.3 in /shared-libs/python3.7/py/lib/python3.7/site-packages (from pandas>=1.1.4->lightkurve) (2022.5)\nRequirement already satisfied: six in /shared-libs/python3.7/py-core/lib/python3.7/site-packages (from patsy>=0.5.0->lightkurve) (1.16.0)\nRequirement already satisfied: charset-normalizer<3,>=2 in /shared-libs/python3.7/py-core/lib/python3.7/site-packages (from requests>=2.22.0->lightkurve) (2.1.1)\nRequirement already satisfied: urllib3<1.27,>=1.21.1 in /shared-libs/python3.7/py/lib/python3.7/site-packages (from requests>=2.22.0->lightkurve) (1.26.12)\nRequirement already satisfied: certifi>=2017.4.17 in /shared-libs/python3.7/py/lib/python3.7/site-packages (from requests>=2.22.0->lightkurve) (2022.9.24)\nRequirement already satisfied: idna<4,>=2.5 in /shared-libs/python3.7/py-core/lib/python3.7/site-packages (from requests>=2.22.0->lightkurve) (3.4)\nRequirement already satisfied: joblib>=0.11 in /shared-libs/python3.7/py/lib/python3.7/site-packages (from scikit-learn>=0.24.0->lightkurve) (1.2.0)\nRequirement already satisfied: threadpoolctl>=2.0.0 in /shared-libs/python3.7/py/lib/python3.7/site-packages (from scikit-learn>=0.24.0->lightkurve) (3.1.0)\nRequirement already satisfied: future in /shared-libs/python3.7/py/lib/python3.7/site-packages (from uncertainties>=3.1.4->lightkurve) (0.18.2)\nRequirement already satisfied: webencodings in /shared-libs/python3.7/py-core/lib/python3.7/site-packages (from html5lib>=0.999->astroquery>=0.3.10->lightkurve) (0.5.1)\nRequirement already satisfied: MarkupSafe>=0.23 in /shared-libs/python3.7/py-core/lib/python3.7/site-packages (from Jinja2>=2.9->bokeh>=1.0->lightkurve) (2.0.0)\nRequirement already satisfied: jeepney>=0.4.2 in /root/venv/lib/python3.7/site-packages (from keyring>=4.0->astroquery>=0.3.10->lightkurve) (0.8.0)\nRequirement already satisfied: SecretStorage>=3.2 in /root/venv/lib/python3.7/site-packages (from keyring>=4.0->astroquery>=0.3.10->lightkurve) (3.3.3)\nRequirement already satisfied: importlib-resources in /shared-libs/python3.7/py/lib/python3.7/site-packages (from keyring>=4.0->astroquery>=0.3.10->lightkurve) (5.10.0)\nRequirement already satisfied: jaraco.classes in /root/venv/lib/python3.7/site-packages (from keyring>=4.0->astroquery>=0.3.10->lightkurve) (3.2.3)\nRequirement already satisfied: zipp>=0.5 in /shared-libs/python3.7/py-core/lib/python3.7/site-packages (from importlib-metadata->astropy>=4.1->lightkurve) (3.9.0)\nRequirement already satisfied: cryptography>=2.0 in /shared-libs/python3.7/py/lib/python3.7/site-packages (from SecretStorage>=3.2->keyring>=4.0->astroquery>=0.3.10->lightkurve) (36.0.2)\nRequirement already satisfied: more-itertools in /root/venv/lib/python3.7/site-packages (from jaraco.classes->keyring>=4.0->astroquery>=0.3.10->lightkurve) (9.1.0)\nRequirement already satisfied: cffi>=1.12 in /shared-libs/python3.7/py-core/lib/python3.7/site-packages (from cryptography>=2.0->SecretStorage>=3.2->keyring>=4.0->astroquery>=0.3.10->lightkurve) (1.15.1)\nRequirement already satisfied: pycparser in /shared-libs/python3.7/py-core/lib/python3.7/site-packages (from cffi>=1.12->cryptography>=2.0->SecretStorage>=3.2->keyring>=4.0->astroquery>=0.3.10->lightkurve) (2.21)\n\u001b[33mWARNING: You are using pip version 22.0.4; however, version 23.0.1 is available.\nYou should consider upgrading via the '/root/venv/bin/python -m pip install --upgrade pip' command.\u001b[0m\u001b[33m\n\u001b[0m",
          "output_type": "stream"
        }
      ],
      "execution_count": 1
    },
    {
      "cell_type": "markdown",
      "source": "## Star selection",
      "metadata": {
        "tags": [],
        "cell_id": "725a401875114b0dade31046eed9da10",
        "is_collapsed": false,
        "formattedRanges": [],
        "deepnote_cell_type": "text-cell-h2"
      }
    },
    {
      "cell_type": "code",
      "source": "TIC = 'TIC 284475976' # TIC Star ID\nsector_data = lk.search_lightcurve(TIC, author = 'SPOC', sector = 23) # can remove each arg if needed\nsector_data\nlc = sector_data.download()\nlc.plot()",
      "metadata": {
        "tags": [],
        "cell_id": "2b82b4f1d68a4ca282977277e09df860",
        "allow_embed": true,
        "source_hash": "3958816a",
        "execution_start": 1678378297896,
        "execution_millis": 572,
        "deepnote_to_be_reexecuted": false,
        "deepnote_cell_type": "code"
      },
      "outputs": [
        {
          "output_type": "execute_result",
          "execution_count": 2,
          "data": {
            "text/plain": "<AxesSubplot:xlabel='Time - 2457000 [BTJD days]', ylabel='Flux [$\\\\mathrm{e^{-}\\\\,s^{-1}}$]'>"
          },
          "metadata": {}
        },
        {
          "data": {
            "text/plain": "<Figure size 848.5x400 with 1 Axes>",
            "image/png": "[encoded data removed]"
          },
          "metadata": {
            "image/png": {
              "width": 759,
              "height": 379
            }
          },
          "output_type": "display_data"
        }
      ],
      "execution_count": 2
    },
    {
      "cell_type": "code",
      "source": "lc.plot(linewidth = 0, marker = '.', color = 'lightcyan', alpha = 0.3)",
      "metadata": {
        "tags": [],
        "cell_id": "0d05b94a69d84ed2afe59cbca88cc512",
        "source_hash": "b448b1e0",
        "execution_start": 1678378299033,
        "execution_millis": 35,
        "deepnote_to_be_reexecuted": false,
        "deepnote_cell_type": "code"
      },
      "outputs": [
        {
          "output_type": "execute_result",
          "execution_count": 3,
          "data": {
            "text/plain": "<AxesSubplot:xlabel='Time - 2457000 [BTJD days]', ylabel='Flux [$\\\\mathrm{e^{-}\\\\,s^{-1}}$]'>"
          },
          "metadata": {}
        }
      ],
      "execution_count": 3
    },
    {
      "cell_type": "markdown",
      "source": "",
      "metadata": {
        "tags": [],
        "cell_id": "685b7bd0550248a1a1967b77638d8750",
        "is_collapsed": false,
        "formattedRanges": [],
        "deepnote_cell_type": "text-cell-p"
      }
    },
    {
      "cell_type": "markdown",
      "source": "## Plotting from multiple sectors",
      "metadata": {
        "tags": [],
        "cell_id": "f4a44ed2146c4d12aadbfc79344f7dae",
        "is_collapsed": false,
        "formattedRanges": [],
        "deepnote_cell_type": "text-cell-h2"
      }
    },
    {
      "cell_type": "code",
      "source": "TIC_2 = 'TIC 55525572'\navailable_data_all = lk.search_lightcurve(TIC_2, author = 'SPOC')\navailable_data_all",
      "metadata": {
        "tags": [],
        "cell_id": "803dde0631d543959b57ac8ff09d8632",
        "source_hash": "143f47ad",
        "execution_start": 1678378299065,
        "execution_millis": 571,
        "is_output_hidden": false,
        "deepnote_to_be_reexecuted": false,
        "deepnote_cell_type": "code"
      },
      "outputs": [
        {
          "output_type": "execute_result",
          "execution_count": 4,
          "data": {
            "text/plain": "SearchResult containing 26 data products.\n\n #     mission     year author exptime target_name distance\n                                  s                 arcsec \n--- -------------- ---- ------ ------- ----------- --------\n  0 TESS Sector 04 2018   SPOC     120    55525572      0.0\n  1 TESS Sector 05 2018   SPOC     120    55525572      0.0\n  2 TESS Sector 06 2018   SPOC     120    55525572      0.0\n  3 TESS Sector 08 2019   SPOC     120    55525572      0.0\n  4 TESS Sector 09 2019   SPOC     120    55525572      0.0\n  5 TESS Sector 10 2019   SPOC     120    55525572      0.0\n  6 TESS Sector 11 2019   SPOC     120    55525572      0.0\n  7 TESS Sector 12 2019   SPOC     120    55525572      0.0\n  8 TESS Sector 13 2019   SPOC     120    55525572      0.0\n  9 TESS Sector 27 2020   SPOC      20    55525572      0.0\n...            ...  ...    ...     ...         ...      ...\n 16 TESS Sector 32 2020   SPOC     120    55525572      0.0\n 17 TESS Sector 33 2020   SPOC     120    55525572      0.0\n 18 TESS Sector 34 2021   SPOC     120    55525572      0.0\n 19 TESS Sector 35 2021   SPOC     120    55525572      0.0\n 20 TESS Sector 36 2021   SPOC     120    55525572      0.0\n 21 TESS Sector 37 2021   SPOC     120    55525572      0.0\n 22 TESS Sector 38 2021   SPOC     120    55525572      0.0\n 23 TESS Sector 39 2021   SPOC     120    55525572      0.0\n 24 TESS Sector 61 2023   SPOC      20    55525572      0.0\n 25 TESS Sector 61 2023   SPOC     120    55525572      0.0\nLength = 26 rows",
            "text/html": "SearchResult containing 26 data products.\n\n<table id=\"table139806161940880\">\n<thead><tr><th>#</th><th>mission</th><th>year</th><th>author</th><th>exptime</th><th>target_name</th><th>distance</th></tr></thead>\n<thead><tr><th></th><th></th><th></th><th></th><th>s</th><th></th><th>arcsec</th></tr></thead>\n<tr><td>0</td><td>TESS Sector 04</td><td>2018</td><td><a href='https://heasarc.gsfc.nasa.gov/docs/tess/pipeline.html'>SPOC</a></td><td>120</td><td>55525572</td><td>0.0</td></tr>\n<tr><td>1</td><td>TESS Sector 05</td><td>2018</td><td><a href='https://heasarc.gsfc.nasa.gov/docs/tess/pipeline.html'>SPOC</a></td><td>120</td><td>55525572</td><td>0.0</td></tr>\n<tr><td>2</td><td>TESS Sector 06</td><td>2018</td><td><a href='https://heasarc.gsfc.nasa.gov/docs/tess/pipeline.html'>SPOC</a></td><td>120</td><td>55525572</td><td>0.0</td></tr>\n<tr><td>3</td><td>TESS Sector 08</td><td>2019</td><td><a href='https://heasarc.gsfc.nasa.gov/docs/tess/pipeline.html'>SPOC</a></td><td>120</td><td>55525572</td><td>0.0</td></tr>\n<tr><td>4</td><td>TESS Sector 09</td><td>2019</td><td><a href='https://heasarc.gsfc.nasa.gov/docs/tess/pipeline.html'>SPOC</a></td><td>120</td><td>55525572</td><td>0.0</td></tr>\n<tr><td>5</td><td>TESS Sector 10</td><td>2019</td><td><a href='https://heasarc.gsfc.nasa.gov/docs/tess/pipeline.html'>SPOC</a></td><td>120</td><td>55525572</td><td>0.0</td></tr>\n<tr><td>6</td><td>TESS Sector 11</td><td>2019</td><td><a href='https://heasarc.gsfc.nasa.gov/docs/tess/pipeline.html'>SPOC</a></td><td>120</td><td>55525572</td><td>0.0</td></tr>\n<tr><td>7</td><td>TESS Sector 12</td><td>2019</td><td><a href='https://heasarc.gsfc.nasa.gov/docs/tess/pipeline.html'>SPOC</a></td><td>120</td><td>55525572</td><td>0.0</td></tr>\n<tr><td>8</td><td>TESS Sector 13</td><td>2019</td><td><a href='https://heasarc.gsfc.nasa.gov/docs/tess/pipeline.html'>SPOC</a></td><td>120</td><td>55525572</td><td>0.0</td></tr>\n<tr><td>9</td><td>TESS Sector 27</td><td>2020</td><td><a href='https://heasarc.gsfc.nasa.gov/docs/tess/pipeline.html'>SPOC</a></td><td>20</td><td>55525572</td><td>0.0</td></tr>\n<tr><td>...</td><td>...</td><td>...</td><td>...</td><td>...</td><td>...</td><td>...</td></tr>\n<tr><td>16</td><td>TESS Sector 32</td><td>2020</td><td><a href='https://heasarc.gsfc.nasa.gov/docs/tess/pipeline.html'>SPOC</a></td><td>120</td><td>55525572</td><td>0.0</td></tr>\n<tr><td>17</td><td>TESS Sector 33</td><td>2020</td><td><a href='https://heasarc.gsfc.nasa.gov/docs/tess/pipeline.html'>SPOC</a></td><td>120</td><td>55525572</td><td>0.0</td></tr>\n<tr><td>18</td><td>TESS Sector 34</td><td>2021</td><td><a href='https://heasarc.gsfc.nasa.gov/docs/tess/pipeline.html'>SPOC</a></td><td>120</td><td>55525572</td><td>0.0</td></tr>\n<tr><td>19</td><td>TESS Sector 35</td><td>2021</td><td><a href='https://heasarc.gsfc.nasa.gov/docs/tess/pipeline.html'>SPOC</a></td><td>120</td><td>55525572</td><td>0.0</td></tr>\n<tr><td>20</td><td>TESS Sector 36</td><td>2021</td><td><a href='https://heasarc.gsfc.nasa.gov/docs/tess/pipeline.html'>SPOC</a></td><td>120</td><td>55525572</td><td>0.0</td></tr>\n<tr><td>21</td><td>TESS Sector 37</td><td>2021</td><td><a href='https://heasarc.gsfc.nasa.gov/docs/tess/pipeline.html'>SPOC</a></td><td>120</td><td>55525572</td><td>0.0</td></tr>\n<tr><td>22</td><td>TESS Sector 38</td><td>2021</td><td><a href='https://heasarc.gsfc.nasa.gov/docs/tess/pipeline.html'>SPOC</a></td><td>120</td><td>55525572</td><td>0.0</td></tr>\n<tr><td>23</td><td>TESS Sector 39</td><td>2021</td><td><a href='https://heasarc.gsfc.nasa.gov/docs/tess/pipeline.html'>SPOC</a></td><td>120</td><td>55525572</td><td>0.0</td></tr>\n<tr><td>24</td><td>TESS Sector 61</td><td>2023</td><td><a href='https://heasarc.gsfc.nasa.gov/docs/tess/pipeline.html'>SPOC</a></td><td>20</td><td>55525572</td><td>0.0</td></tr>\n<tr><td>25</td><td>TESS Sector 61</td><td>2023</td><td><a href='https://heasarc.gsfc.nasa.gov/docs/tess/pipeline.html'>SPOC</a></td><td>120</td><td>55525572</td><td>0.0</td></tr>\n</table>\nLength = 26 rows"
          },
          "metadata": {}
        }
      ],
      "execution_count": 4
    },
    {
      "cell_type": "code",
      "source": "select_sector = available_data_all[0:4]\nselect_sector",
      "metadata": {
        "tags": [],
        "cell_id": "4466b72174aa4e00b93a1c4edd97dccb",
        "source_hash": "97f1ab2a",
        "execution_start": 1678378299701,
        "execution_millis": 24,
        "deepnote_to_be_reexecuted": false,
        "deepnote_cell_type": "code"
      },
      "outputs": [
        {
          "output_type": "execute_result",
          "execution_count": 5,
          "data": {
            "text/plain": "SearchResult containing 4 data products.\n\n #     mission     year author exptime target_name distance\n                                  s                 arcsec \n--- -------------- ---- ------ ------- ----------- --------\n  0 TESS Sector 04 2018   SPOC     120    55525572      0.0\n  1 TESS Sector 05 2018   SPOC     120    55525572      0.0\n  2 TESS Sector 06 2018   SPOC     120    55525572      0.0\n  3 TESS Sector 08 2019   SPOC     120    55525572      0.0",
            "text/html": "SearchResult containing 4 data products.\n\n<table id=\"table139806167421712\">\n<thead><tr><th>#</th><th>mission</th><th>year</th><th>author</th><th>exptime</th><th>target_name</th><th>distance</th></tr></thead>\n<thead><tr><th></th><th></th><th></th><th></th><th>s</th><th></th><th>arcsec</th></tr></thead>\n<tr><td>0</td><td>TESS Sector 04</td><td>2018</td><td><a href='https://heasarc.gsfc.nasa.gov/docs/tess/pipeline.html'>SPOC</a></td><td>120</td><td>55525572</td><td>0.0</td></tr>\n<tr><td>1</td><td>TESS Sector 05</td><td>2018</td><td><a href='https://heasarc.gsfc.nasa.gov/docs/tess/pipeline.html'>SPOC</a></td><td>120</td><td>55525572</td><td>0.0</td></tr>\n<tr><td>2</td><td>TESS Sector 06</td><td>2018</td><td><a href='https://heasarc.gsfc.nasa.gov/docs/tess/pipeline.html'>SPOC</a></td><td>120</td><td>55525572</td><td>0.0</td></tr>\n<tr><td>3</td><td>TESS Sector 08</td><td>2019</td><td><a href='https://heasarc.gsfc.nasa.gov/docs/tess/pipeline.html'>SPOC</a></td><td>120</td><td>55525572</td><td>0.0</td></tr>\n</table>"
          },
          "metadata": {}
        }
      ],
      "execution_count": 5
    },
    {
      "cell_type": "code",
      "source": "lc_collection = select_sector.download_all() # download all the sectors ([0:4])\nlc_collection",
      "metadata": {
        "tags": [],
        "cell_id": "4a88d302eca849e59c55c5aa11c6d80c",
        "source_hash": "8dae4aa",
        "execution_start": 1678378299702,
        "execution_millis": 416,
        "deepnote_to_be_reexecuted": false,
        "deepnote_cell_type": "code"
      },
      "outputs": [
        {
          "output_type": "execute_result",
          "execution_count": 6,
          "data": {
            "text/plain": "LightCurveCollection of 4 objects:\n    0: <TessLightCurve LABEL=\"TIC 55525572\" SECTOR=4 AUTHOR=SPOC FLUX_ORIGIN=pdcsap_flux>\n    1: <TessLightCurve LABEL=\"TIC 55525572\" SECTOR=5 AUTHOR=SPOC FLUX_ORIGIN=pdcsap_flux>\n    2: <TessLightCurve LABEL=\"TIC 55525572\" SECTOR=6 AUTHOR=SPOC FLUX_ORIGIN=pdcsap_flux>\n    3: <TessLightCurve LABEL=\"TIC 55525572\" SECTOR=8 AUTHOR=SPOC FLUX_ORIGIN=pdcsap_flux>"
          },
          "metadata": {}
        }
      ],
      "execution_count": 6
    },
    {
      "cell_type": "code",
      "source": "lc_collection.plot(linewidth = 0, marker = '.')",
      "metadata": {
        "tags": [],
        "cell_id": "905aa5fd8a1f4951bec91721449d9f84",
        "source_hash": "f992f1d3",
        "execution_start": 1678378300133,
        "execution_millis": 26,
        "deepnote_to_be_reexecuted": false,
        "deepnote_cell_type": "code"
      },
      "outputs": [
        {
          "output_type": "execute_result",
          "execution_count": 7,
          "data": {
            "text/plain": "<AxesSubplot:xlabel='Time - 2457000 [BTJD days]', ylabel='Flux [$\\\\mathrm{e^{-}\\\\,s^{-1}}$]'>"
          },
          "metadata": {}
        }
      ],
      "execution_count": 7
    },
    {
      "cell_type": "markdown",
      "source": "### Normalise graph points",
      "metadata": {
        "tags": [],
        "cell_id": "0a0aacf3b12f4198979f61a8e125eca3",
        "is_collapsed": false,
        "formattedRanges": [],
        "deepnote_cell_type": "text-cell-h3"
      }
    },
    {
      "cell_type": "code",
      "source": "lc_collection_stitched = lc_collection.stitch()\nlc_collection_stitched.plot(linewidth = 0, marker = '.', color = 'red')",
      "metadata": {
        "tags": [],
        "cell_id": "317ffa41a6134d0a821c3ae84d64fa85",
        "source_hash": "17c6861",
        "execution_start": 1678378300193,
        "execution_millis": 70,
        "deepnote_to_be_reexecuted": false,
        "deepnote_cell_type": "code"
      },
      "outputs": [
        {
          "output_type": "execute_result",
          "execution_count": 8,
          "data": {
            "text/plain": "<AxesSubplot:xlabel='Time - 2457000 [BTJD days]', ylabel='Normalized Flux'>"
          },
          "metadata": {}
        }
      ],
      "execution_count": 8
    },
    {
      "cell_type": "code",
      "source": "lc.normalize().plot()\nnormalized_lc = lc.normalize()",
      "metadata": {
        "tags": [],
        "cell_id": "a5d9b8b577fb4498b4835df960209b36",
        "source_hash": "95bcdacd",
        "execution_start": 1678378300251,
        "execution_millis": 38,
        "deepnote_to_be_reexecuted": false,
        "deepnote_cell_type": "code"
      },
      "outputs": [],
      "execution_count": 9
    },
    {
      "cell_type": "markdown",
      "source": "## Binning Data",
      "metadata": {
        "tags": [],
        "cell_id": "14c97c0883264bf5b0f52f240b03a4f2",
        "is_collapsed": false,
        "formattedRanges": [],
        "deepnote_cell_type": "text-cell-h2"
      }
    },
    {
      "cell_type": "markdown",
      "source": "- Simplify the data",
      "metadata": {
        "tags": [],
        "cell_id": "eeab61a6-5312-43f8-96b9-8fbdc38e2ca5",
        "is_collapsed": false,
        "formattedRanges": [],
        "deepnote_cell_type": "text-cell-bullet"
      }
    },
    {
      "cell_type": "markdown",
      "source": "- Take multiple data points -> take them to one data point",
      "metadata": {
        "tags": [],
        "cell_id": "fb3235af-cd7e-410c-b9ef-511754a2e25f",
        "is_collapsed": false,
        "formattedRanges": [],
        "deepnote_cell_type": "text-cell-bullet"
      }
    },
    {
      "cell_type": "markdown",
      "source": "- Get rid of noise",
      "metadata": {
        "tags": [],
        "cell_id": "d5da8574-ba90-44b1-b3b3-c068f023ebbc",
        "is_collapsed": false,
        "formattedRanges": [],
        "deepnote_cell_type": "text-cell-bullet"
      }
    },
    {
      "cell_type": "markdown",
      "source": "Bin width is set (now) at 15 minutes, takes the average of all data points in each bin [width]",
      "metadata": {
        "tags": [],
        "cell_id": "2334a7c7-39a5-4b37-bc22-87b5f50622a9",
        "is_collapsed": false,
        "formattedRanges": [],
        "deepnote_cell_type": "text-cell-p"
      }
    },
    {
      "cell_type": "markdown",
      "source": "The larger the bin size, the less shape is preserved, and the less data is available to be manipulated",
      "metadata": {
        "tags": [],
        "cell_id": "5cc440f1-7d29-4c3f-b851-08b33812d65a",
        "is_collapsed": false,
        "formattedRanges": [],
        "deepnote_cell_type": "text-cell-p"
      }
    },
    {
      "cell_type": "code",
      "source": "bin_time = 15/24/60 # LK uses day units, this is 15 minutes over 24 hours\n#lc_collection_binned = lc_collection.bin(bin_time)\n#lc_collection_binned.plot()",
      "metadata": {
        "tags": [],
        "cell_id": "68ce58c30f5a4adfa9ec5b02d1e5367f",
        "source_hash": "494e4451",
        "execution_start": 1678378300333,
        "execution_millis": 3,
        "deepnote_to_be_reexecuted": false,
        "deepnote_cell_type": "code"
      },
      "outputs": [],
      "execution_count": 10
    },
    {
      "cell_type": "markdown",
      "source": "### Plotting region",
      "metadata": {
        "tags": [],
        "cell_id": "3ec338e641be40e7b4db6c6c2aaf8fda",
        "is_collapsed": false,
        "formattedRanges": [],
        "deepnote_cell_type": "text-cell-h3"
      }
    },
    {
      "cell_type": "markdown",
      "source": "Allows us to plot multiple data sets on one figure/graph",
      "metadata": {
        "tags": [],
        "cell_id": "4c4458b9-45cf-4adc-92c4-026194b2228b",
        "is_collapsed": false,
        "formattedRanges": [],
        "deepnote_cell_type": "text-cell-p"
      }
    },
    {
      "cell_type": "code",
      "source": "fig, ax = plt.subplots(figsize = (10, 5))\nlc_collection.plot(ax = ax, linewidth = 0, marker = 'o', color = 'gold', markerSize = 1)\nlc_collection_binned.plot(ax = ax, linewidth = 0, marker = 'o', color = 'black', markerSize = 1)",
      "metadata": {
        "tags": [],
        "cell_id": "af3db4e5a0144fffbecf2437036d95a0",
        "source_hash": "57c08658",
        "execution_start": 1678378300334,
        "execution_millis": 17,
        "deepnote_to_be_reexecuted": false,
        "deepnote_cell_type": "code"
      },
      "outputs": [
        {
          "output_type": "error",
          "ename": "AttributeError",
          "evalue": "'Line2D' object has no property 'markerSize'",
          "traceback": [
            "\u001b[0;31m---------------------------------------------------------------------------\u001b[0m",
            "\u001b[0;31mAttributeError\u001b[0m                            Traceback (most recent call last)",
            "\u001b[0;32m/tmp/ipykernel_830/1473141554.py\u001b[0m in \u001b[0;36m<module>\u001b[0;34m\u001b[0m\n\u001b[1;32m      1\u001b[0m \u001b[0mfig\u001b[0m\u001b[0;34m,\u001b[0m \u001b[0max\u001b[0m \u001b[0;34m=\u001b[0m \u001b[0mplt\u001b[0m\u001b[0;34m.\u001b[0m\u001b[0msubplots\u001b[0m\u001b[0;34m(\u001b[0m\u001b[0mfigsize\u001b[0m \u001b[0;34m=\u001b[0m \u001b[0;34m(\u001b[0m\u001b[0;36m10\u001b[0m\u001b[0;34m,\u001b[0m \u001b[0;36m5\u001b[0m\u001b[0;34m)\u001b[0m\u001b[0;34m)\u001b[0m\u001b[0;34m\u001b[0m\u001b[0;34m\u001b[0m\u001b[0m\n\u001b[0;32m----> 2\u001b[0;31m \u001b[0mlc_collection\u001b[0m\u001b[0;34m.\u001b[0m\u001b[0mplot\u001b[0m\u001b[0;34m(\u001b[0m\u001b[0max\u001b[0m \u001b[0;34m=\u001b[0m \u001b[0max\u001b[0m\u001b[0;34m,\u001b[0m \u001b[0mlinewidth\u001b[0m \u001b[0;34m=\u001b[0m \u001b[0;36m0\u001b[0m\u001b[0;34m,\u001b[0m \u001b[0mmarker\u001b[0m \u001b[0;34m=\u001b[0m \u001b[0;34m'o'\u001b[0m\u001b[0;34m,\u001b[0m \u001b[0mcolor\u001b[0m \u001b[0;34m=\u001b[0m \u001b[0;34m'gold'\u001b[0m\u001b[0;34m,\u001b[0m \u001b[0mmarkerSize\u001b[0m \u001b[0;34m=\u001b[0m \u001b[0;36m1\u001b[0m\u001b[0;34m)\u001b[0m\u001b[0;34m\u001b[0m\u001b[0;34m\u001b[0m\u001b[0m\n\u001b[0m\u001b[1;32m      3\u001b[0m \u001b[0mlc_collection_binned\u001b[0m\u001b[0;34m.\u001b[0m\u001b[0mplot\u001b[0m\u001b[0;34m(\u001b[0m\u001b[0max\u001b[0m \u001b[0;34m=\u001b[0m \u001b[0max\u001b[0m\u001b[0;34m,\u001b[0m \u001b[0mlinewidth\u001b[0m \u001b[0;34m=\u001b[0m \u001b[0;36m0\u001b[0m\u001b[0;34m,\u001b[0m \u001b[0mmarker\u001b[0m \u001b[0;34m=\u001b[0m \u001b[0;34m'o'\u001b[0m\u001b[0;34m,\u001b[0m \u001b[0mcolor\u001b[0m \u001b[0;34m=\u001b[0m \u001b[0;34m'black'\u001b[0m\u001b[0;34m,\u001b[0m \u001b[0mmarkerSize\u001b[0m \u001b[0;34m=\u001b[0m \u001b[0;36m1\u001b[0m\u001b[0;34m)\u001b[0m\u001b[0;34m\u001b[0m\u001b[0;34m\u001b[0m\u001b[0m\n",
            "\u001b[0;32m~/venv/lib/python3.7/site-packages/lightkurve/collections.py\u001b[0m in \u001b[0;36mplot\u001b[0;34m(self, ax, offset, **kwargs)\u001b[0m\n\u001b[1;32m    255\u001b[0m             \u001b[0;32mfor\u001b[0m \u001b[0midx\u001b[0m\u001b[0;34m,\u001b[0m \u001b[0mlc\u001b[0m \u001b[0;32min\u001b[0m \u001b[0menumerate\u001b[0m\u001b[0;34m(\u001b[0m\u001b[0mself\u001b[0m\u001b[0;34m)\u001b[0m\u001b[0;34m:\u001b[0m\u001b[0;34m\u001b[0m\u001b[0;34m\u001b[0m\u001b[0m\n\u001b[1;32m    256\u001b[0m                 \u001b[0mkwargs\u001b[0m\u001b[0;34m[\u001b[0m\u001b[0;34m\"label\"\u001b[0m\u001b[0;34m]\u001b[0m \u001b[0;34m=\u001b[0m \u001b[0;34mf\"{idx}: {lc.meta.get('LABEL', '(missing label)')}\"\u001b[0m\u001b[0;34m\u001b[0m\u001b[0;34m\u001b[0m\u001b[0m\n\u001b[0;32m--> 257\u001b[0;31m                 \u001b[0mlc\u001b[0m\u001b[0;34m.\u001b[0m\u001b[0mplot\u001b[0m\u001b[0;34m(\u001b[0m\u001b[0max\u001b[0m\u001b[0;34m=\u001b[0m\u001b[0max\u001b[0m\u001b[0;34m,\u001b[0m \u001b[0mc\u001b[0m\u001b[0;34m=\u001b[0m\u001b[0;34mf\"C{idx}\"\u001b[0m\u001b[0;34m,\u001b[0m \u001b[0moffset\u001b[0m\u001b[0;34m=\u001b[0m\u001b[0midx\u001b[0m \u001b[0;34m*\u001b[0m \u001b[0moffset\u001b[0m\u001b[0;34m,\u001b[0m \u001b[0;34m**\u001b[0m\u001b[0mkwargs\u001b[0m\u001b[0;34m)\u001b[0m\u001b[0;34m\u001b[0m\u001b[0;34m\u001b[0m\u001b[0m\n\u001b[0m\u001b[1;32m    258\u001b[0m \u001b[0;34m\u001b[0m\u001b[0m\n\u001b[1;32m    259\u001b[0m             \u001b[0;31m# If some but not all light curves are normalized, ensure the Y label\u001b[0m\u001b[0;34m\u001b[0m\u001b[0;34m\u001b[0m\u001b[0;34m\u001b[0m\u001b[0m\n",
            "\u001b[0;32m~/venv/lib/python3.7/site-packages/lightkurve/lightcurve.py\u001b[0m in \u001b[0;36mplot\u001b[0;34m(self, **kwargs)\u001b[0m\n\u001b[1;32m   1848\u001b[0m             \u001b[0mThe\u001b[0m \u001b[0mmatplotlib\u001b[0m \u001b[0maxes\u001b[0m \u001b[0mobject\u001b[0m\u001b[0;34m.\u001b[0m\u001b[0;34m\u001b[0m\u001b[0;34m\u001b[0m\u001b[0m\n\u001b[1;32m   1849\u001b[0m         \"\"\"\n\u001b[0;32m-> 1850\u001b[0;31m         \u001b[0;32mreturn\u001b[0m \u001b[0mself\u001b[0m\u001b[0;34m.\u001b[0m\u001b[0m_create_plot\u001b[0m\u001b[0;34m(\u001b[0m\u001b[0mmethod\u001b[0m\u001b[0;34m=\u001b[0m\u001b[0;34m\"plot\"\u001b[0m\u001b[0;34m,\u001b[0m \u001b[0;34m**\u001b[0m\u001b[0mkwargs\u001b[0m\u001b[0;34m)\u001b[0m\u001b[0;34m\u001b[0m\u001b[0;34m\u001b[0m\u001b[0m\n\u001b[0m\u001b[1;32m   1851\u001b[0m \u001b[0;34m\u001b[0m\u001b[0m\n\u001b[1;32m   1852\u001b[0m     def scatter(\n",
            "\u001b[0;32m~/venv/lib/python3.7/site-packages/lightkurve/lightcurve.py\u001b[0m in \u001b[0;36m_create_plot\u001b[0;34m(self, method, column, ax, normalize, xlabel, ylabel, title, style, show_colorbar, colorbar_label, offset, clip_outliers, **kwargs)\u001b[0m\n\u001b[1;32m   1795\u001b[0m                     \u001b[0mlog\u001b[0m\u001b[0;34m.\u001b[0m\u001b[0mwarning\u001b[0m\u001b[0;34m(\u001b[0m\u001b[0;34mf\"Column `{column}` has no associated errors.\"\u001b[0m\u001b[0;34m)\u001b[0m\u001b[0;34m\u001b[0m\u001b[0;34m\u001b[0m\u001b[0m\n\u001b[1;32m   1796\u001b[0m             \u001b[0;32melse\u001b[0m\u001b[0;34m:\u001b[0m\u001b[0;34m\u001b[0m\u001b[0;34m\u001b[0m\u001b[0m\n\u001b[0;32m-> 1797\u001b[0;31m                 \u001b[0max\u001b[0m\u001b[0;34m.\u001b[0m\u001b[0mplot\u001b[0m\u001b[0;34m(\u001b[0m\u001b[0mself\u001b[0m\u001b[0;34m.\u001b[0m\u001b[0mtime\u001b[0m\u001b[0;34m.\u001b[0m\u001b[0mvalue\u001b[0m\u001b[0;34m,\u001b[0m \u001b[0mflux\u001b[0m\u001b[0;34m.\u001b[0m\u001b[0mvalue\u001b[0m\u001b[0;34m,\u001b[0m \u001b[0;34m**\u001b[0m\u001b[0mkwargs\u001b[0m\u001b[0;34m)\u001b[0m\u001b[0;34m\u001b[0m\u001b[0;34m\u001b[0m\u001b[0m\n\u001b[0m\u001b[1;32m   1798\u001b[0m             \u001b[0max\u001b[0m\u001b[0;34m.\u001b[0m\u001b[0mset_xlabel\u001b[0m\u001b[0;34m(\u001b[0m\u001b[0mxlabel\u001b[0m\u001b[0;34m)\u001b[0m\u001b[0;34m\u001b[0m\u001b[0;34m\u001b[0m\u001b[0m\n\u001b[1;32m   1799\u001b[0m             \u001b[0max\u001b[0m\u001b[0;34m.\u001b[0m\u001b[0mset_ylabel\u001b[0m\u001b[0;34m(\u001b[0m\u001b[0mylabel\u001b[0m\u001b[0;34m)\u001b[0m\u001b[0;34m\u001b[0m\u001b[0;34m\u001b[0m\u001b[0m\n",
            "\u001b[0;32m/shared-libs/python3.7/py/lib/python3.7/site-packages/matplotlib/axes/_axes.py\u001b[0m in \u001b[0;36mplot\u001b[0;34m(self, scalex, scaley, data, *args, **kwargs)\u001b[0m\n\u001b[1;32m   1633\u001b[0m         \"\"\"\n\u001b[1;32m   1634\u001b[0m         \u001b[0mkwargs\u001b[0m \u001b[0;34m=\u001b[0m \u001b[0mcbook\u001b[0m\u001b[0;34m.\u001b[0m\u001b[0mnormalize_kwargs\u001b[0m\u001b[0;34m(\u001b[0m\u001b[0mkwargs\u001b[0m\u001b[0;34m,\u001b[0m \u001b[0mmlines\u001b[0m\u001b[0;34m.\u001b[0m\u001b[0mLine2D\u001b[0m\u001b[0;34m)\u001b[0m\u001b[0;34m\u001b[0m\u001b[0;34m\u001b[0m\u001b[0m\n\u001b[0;32m-> 1635\u001b[0;31m         \u001b[0mlines\u001b[0m \u001b[0;34m=\u001b[0m \u001b[0;34m[\u001b[0m\u001b[0;34m*\u001b[0m\u001b[0mself\u001b[0m\u001b[0;34m.\u001b[0m\u001b[0m_get_lines\u001b[0m\u001b[0;34m(\u001b[0m\u001b[0;34m*\u001b[0m\u001b[0margs\u001b[0m\u001b[0;34m,\u001b[0m \u001b[0mdata\u001b[0m\u001b[0;34m=\u001b[0m\u001b[0mdata\u001b[0m\u001b[0;34m,\u001b[0m \u001b[0;34m**\u001b[0m\u001b[0mkwargs\u001b[0m\u001b[0;34m)\u001b[0m\u001b[0;34m]\u001b[0m\u001b[0;34m\u001b[0m\u001b[0;34m\u001b[0m\u001b[0m\n\u001b[0m\u001b[1;32m   1636\u001b[0m         \u001b[0;32mfor\u001b[0m \u001b[0mline\u001b[0m \u001b[0;32min\u001b[0m \u001b[0mlines\u001b[0m\u001b[0;34m:\u001b[0m\u001b[0;34m\u001b[0m\u001b[0;34m\u001b[0m\u001b[0m\n\u001b[1;32m   1637\u001b[0m             \u001b[0mself\u001b[0m\u001b[0;34m.\u001b[0m\u001b[0madd_line\u001b[0m\u001b[0;34m(\u001b[0m\u001b[0mline\u001b[0m\u001b[0;34m)\u001b[0m\u001b[0;34m\u001b[0m\u001b[0;34m\u001b[0m\u001b[0m\n",
            "\u001b[0;32m/shared-libs/python3.7/py/lib/python3.7/site-packages/matplotlib/axes/_base.py\u001b[0m in \u001b[0;36m__call__\u001b[0;34m(self, data, *args, **kwargs)\u001b[0m\n\u001b[1;32m    310\u001b[0m                 \u001b[0mthis\u001b[0m \u001b[0;34m+=\u001b[0m \u001b[0margs\u001b[0m\u001b[0;34m[\u001b[0m\u001b[0;36m0\u001b[0m\u001b[0;34m]\u001b[0m\u001b[0;34m,\u001b[0m\u001b[0;34m\u001b[0m\u001b[0;34m\u001b[0m\u001b[0m\n\u001b[1;32m    311\u001b[0m                 \u001b[0margs\u001b[0m \u001b[0;34m=\u001b[0m \u001b[0margs\u001b[0m\u001b[0;34m[\u001b[0m\u001b[0;36m1\u001b[0m\u001b[0;34m:\u001b[0m\u001b[0;34m]\u001b[0m\u001b[0;34m\u001b[0m\u001b[0;34m\u001b[0m\u001b[0m\n\u001b[0;32m--> 312\u001b[0;31m             \u001b[0;32myield\u001b[0m \u001b[0;32mfrom\u001b[0m \u001b[0mself\u001b[0m\u001b[0;34m.\u001b[0m\u001b[0m_plot_args\u001b[0m\u001b[0;34m(\u001b[0m\u001b[0mthis\u001b[0m\u001b[0;34m,\u001b[0m \u001b[0mkwargs\u001b[0m\u001b[0;34m)\u001b[0m\u001b[0;34m\u001b[0m\u001b[0;34m\u001b[0m\u001b[0m\n\u001b[0m\u001b[1;32m    313\u001b[0m \u001b[0;34m\u001b[0m\u001b[0m\n\u001b[1;32m    314\u001b[0m     \u001b[0;32mdef\u001b[0m \u001b[0mget_next_color\u001b[0m\u001b[0;34m(\u001b[0m\u001b[0mself\u001b[0m\u001b[0;34m)\u001b[0m\u001b[0;34m:\u001b[0m\u001b[0;34m\u001b[0m\u001b[0;34m\u001b[0m\u001b[0m\n",
            "\u001b[0;32m/shared-libs/python3.7/py/lib/python3.7/site-packages/matplotlib/axes/_base.py\u001b[0m in \u001b[0;36m_plot_args\u001b[0;34m(self, tup, kwargs, return_kwargs)\u001b[0m\n\u001b[1;32m    536\u001b[0m             \u001b[0;32mreturn\u001b[0m \u001b[0mlist\u001b[0m\u001b[0;34m(\u001b[0m\u001b[0mresult\u001b[0m\u001b[0;34m)\u001b[0m\u001b[0;34m\u001b[0m\u001b[0;34m\u001b[0m\u001b[0m\n\u001b[1;32m    537\u001b[0m         \u001b[0;32melse\u001b[0m\u001b[0;34m:\u001b[0m\u001b[0;34m\u001b[0m\u001b[0;34m\u001b[0m\u001b[0m\n\u001b[0;32m--> 538\u001b[0;31m             \u001b[0;32mreturn\u001b[0m \u001b[0;34m[\u001b[0m\u001b[0ml\u001b[0m\u001b[0;34m[\u001b[0m\u001b[0;36m0\u001b[0m\u001b[0;34m]\u001b[0m \u001b[0;32mfor\u001b[0m \u001b[0ml\u001b[0m \u001b[0;32min\u001b[0m \u001b[0mresult\u001b[0m\u001b[0;34m]\u001b[0m\u001b[0;34m\u001b[0m\u001b[0;34m\u001b[0m\u001b[0m\n\u001b[0m\u001b[1;32m    539\u001b[0m \u001b[0;34m\u001b[0m\u001b[0m\n\u001b[1;32m    540\u001b[0m \u001b[0;34m\u001b[0m\u001b[0m\n",
            "\u001b[0;32m/shared-libs/python3.7/py/lib/python3.7/site-packages/matplotlib/axes/_base.py\u001b[0m in \u001b[0;36m<listcomp>\u001b[0;34m(.0)\u001b[0m\n\u001b[1;32m    536\u001b[0m             \u001b[0;32mreturn\u001b[0m \u001b[0mlist\u001b[0m\u001b[0;34m(\u001b[0m\u001b[0mresult\u001b[0m\u001b[0;34m)\u001b[0m\u001b[0;34m\u001b[0m\u001b[0;34m\u001b[0m\u001b[0m\n\u001b[1;32m    537\u001b[0m         \u001b[0;32melse\u001b[0m\u001b[0;34m:\u001b[0m\u001b[0;34m\u001b[0m\u001b[0;34m\u001b[0m\u001b[0m\n\u001b[0;32m--> 538\u001b[0;31m             \u001b[0;32mreturn\u001b[0m \u001b[0;34m[\u001b[0m\u001b[0ml\u001b[0m\u001b[0;34m[\u001b[0m\u001b[0;36m0\u001b[0m\u001b[0;34m]\u001b[0m \u001b[0;32mfor\u001b[0m \u001b[0ml\u001b[0m \u001b[0;32min\u001b[0m \u001b[0mresult\u001b[0m\u001b[0;34m]\u001b[0m\u001b[0;34m\u001b[0m\u001b[0;34m\u001b[0m\u001b[0m\n\u001b[0m\u001b[1;32m    539\u001b[0m \u001b[0;34m\u001b[0m\u001b[0m\n\u001b[1;32m    540\u001b[0m \u001b[0;34m\u001b[0m\u001b[0m\n",
            "\u001b[0;32m/shared-libs/python3.7/py/lib/python3.7/site-packages/matplotlib/axes/_base.py\u001b[0m in \u001b[0;36m<genexpr>\u001b[0;34m(.0)\u001b[0m\n\u001b[1;32m    531\u001b[0m         result = (make_artist(x[:, j % ncx], y[:, j % ncy], kw,\n\u001b[1;32m    532\u001b[0m                               {**kwargs, 'label': label})\n\u001b[0;32m--> 533\u001b[0;31m                   for j, label in enumerate(labels))\n\u001b[0m\u001b[1;32m    534\u001b[0m \u001b[0;34m\u001b[0m\u001b[0m\n\u001b[1;32m    535\u001b[0m         \u001b[0;32mif\u001b[0m \u001b[0mreturn_kwargs\u001b[0m\u001b[0;34m:\u001b[0m\u001b[0;34m\u001b[0m\u001b[0;34m\u001b[0m\u001b[0m\n",
            "\u001b[0;32m/shared-libs/python3.7/py/lib/python3.7/site-packages/matplotlib/axes/_base.py\u001b[0m in \u001b[0;36m_makeline\u001b[0;34m(self, x, y, kw, kwargs)\u001b[0m\n\u001b[1;32m    349\u001b[0m         \u001b[0mdefault_dict\u001b[0m \u001b[0;34m=\u001b[0m \u001b[0mself\u001b[0m\u001b[0;34m.\u001b[0m\u001b[0m_getdefaults\u001b[0m\u001b[0;34m(\u001b[0m\u001b[0mset\u001b[0m\u001b[0;34m(\u001b[0m\u001b[0;34m)\u001b[0m\u001b[0;34m,\u001b[0m \u001b[0mkw\u001b[0m\u001b[0;34m)\u001b[0m\u001b[0;34m\u001b[0m\u001b[0;34m\u001b[0m\u001b[0m\n\u001b[1;32m    350\u001b[0m         \u001b[0mself\u001b[0m\u001b[0;34m.\u001b[0m\u001b[0m_setdefaults\u001b[0m\u001b[0;34m(\u001b[0m\u001b[0mdefault_dict\u001b[0m\u001b[0;34m,\u001b[0m \u001b[0mkw\u001b[0m\u001b[0;34m)\u001b[0m\u001b[0;34m\u001b[0m\u001b[0;34m\u001b[0m\u001b[0m\n\u001b[0;32m--> 351\u001b[0;31m         \u001b[0mseg\u001b[0m \u001b[0;34m=\u001b[0m \u001b[0mmlines\u001b[0m\u001b[0;34m.\u001b[0m\u001b[0mLine2D\u001b[0m\u001b[0;34m(\u001b[0m\u001b[0mx\u001b[0m\u001b[0;34m,\u001b[0m \u001b[0my\u001b[0m\u001b[0;34m,\u001b[0m \u001b[0;34m**\u001b[0m\u001b[0mkw\u001b[0m\u001b[0;34m)\u001b[0m\u001b[0;34m\u001b[0m\u001b[0;34m\u001b[0m\u001b[0m\n\u001b[0m\u001b[1;32m    352\u001b[0m         \u001b[0;32mreturn\u001b[0m \u001b[0mseg\u001b[0m\u001b[0;34m,\u001b[0m \u001b[0mkw\u001b[0m\u001b[0;34m\u001b[0m\u001b[0;34m\u001b[0m\u001b[0m\n\u001b[1;32m    353\u001b[0m \u001b[0;34m\u001b[0m\u001b[0m\n",
            "\u001b[0;32m/shared-libs/python3.7/py/lib/python3.7/site-packages/matplotlib/lines.py\u001b[0m in \u001b[0;36m__init__\u001b[0;34m(self, xdata, ydata, linewidth, linestyle, color, marker, markersize, markeredgewidth, markeredgecolor, markerfacecolor, markerfacecoloralt, fillstyle, antialiased, dash_capstyle, solid_capstyle, dash_joinstyle, solid_joinstyle, pickradius, drawstyle, markevery, **kwargs)\u001b[0m\n\u001b[1;32m    391\u001b[0m         \u001b[0;31m# update kwargs before updating data to give the caller a\u001b[0m\u001b[0;34m\u001b[0m\u001b[0;34m\u001b[0m\u001b[0;34m\u001b[0m\u001b[0m\n\u001b[1;32m    392\u001b[0m         \u001b[0;31m# chance to init axes (and hence unit support)\u001b[0m\u001b[0;34m\u001b[0m\u001b[0;34m\u001b[0m\u001b[0;34m\u001b[0m\u001b[0m\n\u001b[0;32m--> 393\u001b[0;31m         \u001b[0mself\u001b[0m\u001b[0;34m.\u001b[0m\u001b[0mupdate\u001b[0m\u001b[0;34m(\u001b[0m\u001b[0mkwargs\u001b[0m\u001b[0;34m)\u001b[0m\u001b[0;34m\u001b[0m\u001b[0;34m\u001b[0m\u001b[0m\n\u001b[0m\u001b[1;32m    394\u001b[0m         \u001b[0mself\u001b[0m\u001b[0;34m.\u001b[0m\u001b[0mpickradius\u001b[0m \u001b[0;34m=\u001b[0m \u001b[0mpickradius\u001b[0m\u001b[0;34m\u001b[0m\u001b[0;34m\u001b[0m\u001b[0m\n\u001b[1;32m    395\u001b[0m         \u001b[0mself\u001b[0m\u001b[0;34m.\u001b[0m\u001b[0mind_offset\u001b[0m \u001b[0;34m=\u001b[0m \u001b[0;36m0\u001b[0m\u001b[0;34m\u001b[0m\u001b[0;34m\u001b[0m\u001b[0m\n",
            "\u001b[0;32m/shared-libs/python3.7/py/lib/python3.7/site-packages/matplotlib/artist.py\u001b[0m in \u001b[0;36mupdate\u001b[0;34m(self, props)\u001b[0m\n\u001b[1;32m   1065\u001b[0m                     \u001b[0mfunc\u001b[0m \u001b[0;34m=\u001b[0m \u001b[0mgetattr\u001b[0m\u001b[0;34m(\u001b[0m\u001b[0mself\u001b[0m\u001b[0;34m,\u001b[0m \u001b[0;34mf\"set_{k}\"\u001b[0m\u001b[0;34m,\u001b[0m \u001b[0;32mNone\u001b[0m\u001b[0;34m)\u001b[0m\u001b[0;34m\u001b[0m\u001b[0;34m\u001b[0m\u001b[0m\n\u001b[1;32m   1066\u001b[0m                     \u001b[0;32mif\u001b[0m \u001b[0;32mnot\u001b[0m \u001b[0mcallable\u001b[0m\u001b[0;34m(\u001b[0m\u001b[0mfunc\u001b[0m\u001b[0;34m)\u001b[0m\u001b[0;34m:\u001b[0m\u001b[0;34m\u001b[0m\u001b[0;34m\u001b[0m\u001b[0m\n\u001b[0;32m-> 1067\u001b[0;31m                         raise AttributeError(f\"{type(self).__name__!r} object \"\n\u001b[0m\u001b[1;32m   1068\u001b[0m                                              f\"has no property {k!r}\")\n\u001b[1;32m   1069\u001b[0m                     \u001b[0mret\u001b[0m\u001b[0;34m.\u001b[0m\u001b[0mappend\u001b[0m\u001b[0;34m(\u001b[0m\u001b[0mfunc\u001b[0m\u001b[0;34m(\u001b[0m\u001b[0mv\u001b[0m\u001b[0;34m)\u001b[0m\u001b[0;34m)\u001b[0m\u001b[0;34m\u001b[0m\u001b[0;34m\u001b[0m\u001b[0m\n",
            "\u001b[0;31mAttributeError\u001b[0m: 'Line2D' object has no property 'markerSize'"
          ]
        }
      ],
      "execution_count": 11
    },
    {
      "cell_type": "markdown",
      "source": "## Phase Folding",
      "metadata": {
        "tags": [],
        "cell_id": "ac5dae148f4440e5b4dad964f4ee9edd",
        "is_collapsed": false,
        "formattedRanges": [],
        "deepnote_cell_type": "text-cell-h2"
      }
    },
    {
      "cell_type": "markdown",
      "source": "Fold different periods of separation of transit events onto each other ",
      "metadata": {
        "tags": [],
        "cell_id": "6df6f6d2-8a0e-4e5a-9865-7a9c8d8cb55d",
        "is_collapsed": false,
        "formattedRanges": [],
        "deepnote_cell_type": "text-cell-p"
      }
    },
    {
      "cell_type": "markdown",
      "source": "`t0` -> first transit point",
      "metadata": {
        "tags": [],
        "cell_id": "4233834e-ccff-4090-a294-13e787ab35bb",
        "is_collapsed": false,
        "formattedRanges": [],
        "deepnote_cell_type": "text-cell-p"
      }
    },
    {
      "cell_type": "markdown",
      "source": "if (period == wrong) { lightDips != lineUp } /#/ Basic (if `t0` is wrong)",
      "metadata": {
        "tags": [],
        "cell_id": "1c02b599-1dd1-45a7-890b-9b5e56c4d254",
        "is_collapsed": false,
        "formattedRanges": [],
        "deepnote_cell_type": "text-cell-p"
      }
    },
    {
      "cell_type": "code",
      "source": "!pip install lightkurve\n\nimport matplotlib.pyplot as plt\nimport lightkurve as lk\nTIC = 'TIC 55525572'",
      "metadata": {
        "tags": [],
        "cell_id": "7465a77539404d60a7a9412866edacc7",
        "source_hash": "22155827",
        "execution_start": 1664982377786,
        "execution_millis": 13395922573,
        "is_output_hidden": true,
        "deepnote_to_be_reexecuted": true,
        "deepnote_cell_type": "code"
      },
      "outputs": [],
      "execution_count": 0
    },
    {
      "cell_type": "code",
      "source": "available_data_select = lk.search_lightcurve(TIC, author = 'SPOC')[0:9] # Query data, select data from mutliple sectors (e.g. all availablke first year TESS data)\nlc_collection = available_data_select.download_all().stitch()",
      "metadata": {
        "tags": [],
        "cell_id": "031faea4d83c42fcb702ccce0a7d2ab0",
        "source_hash": "c2032662",
        "execution_start": 1664896408191,
        "execution_millis": 13481892169,
        "deepnote_to_be_reexecuted": true,
        "deepnote_cell_type": "code"
      },
      "outputs": [],
      "execution_count": 0
    },
    {
      "cell_type": "code",
      "source": "fig, ax = plt.subplots(figsize = (8,4))\nlc_collection.plot(ax = ax, linewidth = 0, marker = 'o', color = 'purple', markersize = 1, alpha = 0.7)",
      "metadata": {
        "tags": [],
        "cell_id": "5d107c939d194f45930752d40ee146ca",
        "source_hash": "97f3df29",
        "execution_start": 1664896420649,
        "execution_millis": 13481879715,
        "deepnote_to_be_reexecuted": true,
        "deepnote_cell_type": "code"
      },
      "outputs": [],
      "execution_count": 0
    },
    {
      "cell_type": "code",
      "source": "period = 83.8979\nt0 = 2125.847\n\nlc_phased = lc_collection.fold(period = period, epoch_time = t0)\nlc_phased.plot(linewidth = 0, color = 'gold', marker = '.', markersize = 1, alpha = 0.7)\n\nlc_phased_binned = lc_phased.bin(15/24/60)\nfig, ax = plt.subplots(figsize = (8,5)) # defines a plotting region to plot multiple data sets\nlc_phased.plot(ax = ax, marker = '.', linewidth = 0, color = 'blue', alpha = 0.4, markersize = 3, label = 'unbinned')\nlc_phased_binned.plot(ax = ax, marker = 'o', linewidth = 0, color = 'purple', alpha = 0.8, markersize = 6, label = 'binned')\n\nplt.xlim(-2, 2) # upper and lower limit for x-axis, zooming in from -40, 40 wide to -2, 2 wide\nplt.ylim(0.996, 1.004) ",
      "metadata": {
        "tags": [],
        "cell_id": "0561c889223b4a5e9207b558018cf166",
        "source_hash": "6c04c03e",
        "execution_start": 1664898017569,
        "execution_millis": 13480282798,
        "deepnote_to_be_reexecuted": true,
        "deepnote_cell_type": "code"
      },
      "outputs": [],
      "execution_count": 0
    },
    {
      "cell_type": "markdown",
      "source": "## Determining planet stats",
      "metadata": {
        "tags": [],
        "cell_id": "4bc66af43b8a4a9cafbefbc9da82ac16",
        "is_collapsed": false,
        "formattedRanges": [],
        "deepnote_cell_type": "text-cell-h2"
      }
    },
    {
      "cell_type": "markdown",
      "source": "Use the fraction of light from the star being blocked out (in the dip) and compare that with the size of the parent star (make sure to account for things like ASB stars, but assume most to all stars observed will be main sequence).",
      "metadata": {
        "tags": [],
        "cell_id": "27cc9a50-982f-4bb8-a2de-bac4dbdaac46",
        "is_collapsed": false,
        "formattedRanges": [],
        "deepnote_cell_type": "text-cell-p"
      }
    },
    {
      "cell_type": "markdown",
      "source": "Area of light -> area of planet (sphere -> disk): ![](https://latex.codecogs.com/svg.image?area(planet)%20=%20\\pi%20R^2)\n\nArea of star:\n![](https://latex.codecogs.com/svg.image?area(star)%20=%20\\pi%20R^2)\n\n\n$$ transitDepth = ({rPlanet \\over rStar})^2 $$\n\n$$ rPlanet = \\sqrt{transitDepth} \\times rStar $$",
      "metadata": {
        "tags": [],
        "cell_id": "496550ed369748faa4190cd5d10c2542",
        "deepnote_cell_type": "markdown"
      }
    },
    {
      "cell_type": "code",
      "source": "import matplotlib.pyplot as plt\nimport lightkurve as lk\n\nplt.axhline(0.9988) # look at graph\nplt.xlim(-2, 2) # upper and lower limit for x-axis, zooming in from -40, 40 wide to -2, 2 wide\nplt.ylim(0.996, 1.004)\n\n# https://deepnote.com/workspace/star-sailors-49d2efda-376f-4329-9618-7f871ba16007/project/Anomaly-Interaction-ab6b31e5-13c3-4949-af38-1197d00bd4d1\n# https://deepnote.com/workspace/star-sailors-49d2efda-376f-4329-9618-7f871ba16007/project/lightkurvehandler-dca7e16c-429d-42f1-904d-43898efb2321\n# https://deepnote.com/workspace/star-sailors-49d2efda-376f-4329-9618-7f871ba16007/project/Star-Sailors-Light-Curve-Plot-b4c251b4-c11a-481e-8206-c29934eb75da",
      "metadata": {
        "tags": [],
        "cell_id": "eb96485123b54374a2e51d1039ad18d7",
        "source_hash": "aa885867",
        "execution_start": 1664982365642,
        "execution_millis": 13395934729,
        "deepnote_to_be_reexecuted": true,
        "deepnote_cell_type": "code"
      },
      "outputs": [],
      "execution_count": 0
    },
    {
      "cell_type": "code",
      "source": "!pip install astropy\nfrom astropy import units as u\nimport numpy as np\nimport matplotlib.pyplot as plt\nimport lightkurve as lk",
      "metadata": {
        "tags": [],
        "cell_id": "fa6940a74fbb4750ac49d3e59d4f41ae",
        "source_hash": "8117248e",
        "deepnote_to_be_reexecuted": true,
        "deepnote_cell_type": "code"
      },
      "outputs": [],
      "execution_count": 0
    },
    {
      "cell_type": "code",
      "source": "transit_depth = 1 - 0.9988\nR_star = 2.04354 * u.Rsun # exofop.ipac.caltech.edu/tess/target.php?id=TIC * radius of [our] sun\nr_pl_solar_radius = np.sqrt(transit_depth) * R_star",
      "metadata": {
        "tags": [],
        "cell_id": "41ebb117f0ca46c89b17d8d530b6045c",
        "source_hash": "5c660c1f",
        "deepnote_to_be_reexecuted": true,
        "deepnote_cell_type": "code"
      },
      "outputs": [],
      "execution_count": 0
    },
    {
      "cell_type": "code",
      "source": "r_pl_solar_radius",
      "metadata": {
        "tags": [],
        "cell_id": "67aae08bdeca4a6390f463590244733c",
        "source_hash": "d9370356",
        "deepnote_to_be_reexecuted": true,
        "deepnote_cell_type": "code"
      },
      "outputs": [],
      "execution_count": 0
    },
    {
      "cell_type": "markdown",
      "source": "Some simple ideas/notes very briefly:",
      "metadata": {
        "tags": [],
        "cell_id": "20d249b0-7554-42c4-8905-fdc04c9e53c0",
        "is_collapsed": false,
        "formattedRanges": [],
        "deepnote_cell_type": "text-cell-p"
      }
    },
    {
      "cell_type": "markdown",
      "source": "1. Move the plot into an interactive format (like a Zooniverse frontend fork) and look at where users \"click\" on \"curves\", save that to a DB",
      "metadata": {
        "tags": [],
        "style": "decimal",
        "number": 1,
        "cell_id": "c11042ac-b482-4ce6-b6be-64b340c0bc12",
        "is_collapsed": false,
        "formattedRanges": [],
        "deepnote_cell_type": "text-cell-number"
      }
    },
    {
      "cell_type": "markdown",
      "source": "undefined. Connect DeepNote to Umbrel? -> https://b4c251b4-c11a-481e-8206-c29934eb75da.deepnoteproject.com",
      "metadata": {
        "tags": [],
        "style": "decimal",
        "cell_id": "1c27a80c-1a2b-4bbd-bab9-67a0876eace1",
        "is_collapsed": false,
        "formattedRanges": [
          {
            "url": "https://b4c251b4-c11a-481e-8206-c29934eb75da.deepnoteproject.com",
            "type": "link",
            "ranges": [],
            "toCodePoint": 95,
            "fromCodePoint": 31
          }
        ],
        "deepnote_cell_type": "text-cell-number"
      }
    },
    {
      "cell_type": "markdown",
      "source": "undefined. Spectroscopy -> https://tess.mit.edu/followup/",
      "metadata": {
        "tags": [],
        "style": "decimal",
        "cell_id": "d71f2833-47df-4971-b785-5c94bf3aa936",
        "is_collapsed": false,
        "formattedRanges": [
          {
            "url": "https://tess.mit.edu/followup/",
            "type": "link",
            "ranges": [],
            "toCodePoint": 46,
            "fromCodePoint": 16
          },
          {
            "url": "https://b4c251b4-c11a-481e-8206-c29934eb75da.deepnoteproject.com",
            "type": "link",
            "ranges": [],
            "toCodePoint": 46,
            "fromCodePoint": 46
          }
        ],
        "deepnote_cell_type": "text-cell-number"
      }
    },
    {
      "cell_type": "code",
      "source": "visits = _deepnote_execute_sql('select\\n    visits.user_id,\\n    visits.visited_at,\\n    users.signed_up_at,\\n    users_ab.variant\\nfrom\\n    visits\\n    left join users on visits.user_id = users.user_id\\n    inner join users_ab on visits.user_id = users_ab.user_id', 'SQL_26D1FA15_65F7_4B77_8193_83C3976930E2', audit_sql_comment='', sql_cache_mode='cache_disabled')\nvisits",
      "metadata": {
        "tags": [],
        "cell_id": "0818aa7dff4e48089de25919cc51084b",
        "source_hash": "1239912",
        "owner_user_id": "c0bf84b7-11ed-4fa3-82dd-a8dec30d9c2e",
        "execution_start": 1664854942865,
        "execution_millis": 13523357521,
        "is_output_hidden": false,
        "sql_integration_id": "26d1fa15-65f7-4b77-8193-83c3976930e2",
        "deepnote_sql_source": "select\n    visits.user_id,\n    visits.visited_at,\n    users.signed_up_at,\n    users_ab.variant\nfrom\n    visits\n    left join users on visits.user_id = users.user_id\n    inner join users_ab on visits.user_id = users_ab.user_id",
        "deepnote_variable_name": "visits",
        "deepnote_to_be_reexecuted": true,
        "deepnote_cell_type": "sql"
      },
      "outputs": [],
      "execution_count": 0
    },
    {
      "cell_type": "markdown",
      "source": "# Lightweight Curve Manipulation",
      "metadata": {
        "tags": [],
        "cell_id": "bb5695b1b0ab4a4589674aa7effdddb3",
        "is_collapsed": false,
        "formattedRanges": [],
        "deepnote_cell_type": "text-cell-h1"
      }
    },
    {
      "cell_type": "code",
      "source": "!pip install lightkurve\n\nimport matplotlib.pyplot as plt\nimport lightkurve as lk",
      "metadata": {
        "tags": [],
        "cell_id": "551cbb3401eb47a7b4185ea355d28d5a",
        "source_hash": "47146f97",
        "execution_start": 1664892878094,
        "execution_millis": 13485422293,
        "deepnote_to_be_reexecuted": true,
        "deepnote_cell_type": "code"
      },
      "outputs": [],
      "execution_count": 0
    },
    {
      "cell_type": "code",
      "source": "TIC = 'TIC 284475976'\nsector_data = lk.search_lightcurve(TIC, author = 'SPOC', sector = 23)\nsector_data",
      "metadata": {
        "tags": [],
        "cell_id": "481756c123f54bdabee68d151490e00c",
        "source_hash": "1664152e",
        "execution_start": 1664892890135,
        "execution_millis": 13485410259,
        "deepnote_to_be_reexecuted": true,
        "deepnote_cell_type": "code"
      },
      "outputs": [],
      "execution_count": 0
    },
    {
      "cell_type": "code",
      "source": "lc = sector_data.download()\nlc.plot",
      "metadata": {
        "tags": [],
        "cell_id": "84138a9e5bff4ec0b012a068720157d6",
        "source_hash": "31c6020c",
        "execution_start": 1664892894021,
        "execution_millis": 13485406374,
        "deepnote_to_be_reexecuted": true,
        "deepnote_cell_type": "code"
      },
      "outputs": [],
      "execution_count": 0
    },
    {
      "cell_type": "code",
      "source": "lc.plot(linewidth = 0, marker = '.', color = 'lightcyan', alpha = 0.8)",
      "metadata": {
        "tags": [],
        "cell_id": "d49ad5b317554e779f9c6a2fac118c9d",
        "source_hash": "87052e06",
        "execution_start": 1664892897355,
        "execution_millis": 13485403045,
        "deepnote_to_be_reexecuted": true,
        "deepnote_cell_type": "code"
      },
      "outputs": [],
      "execution_count": 0
    },
    {
      "cell_type": "markdown",
      "source": "## Conversion Rate",
      "metadata": {
        "tags": [],
        "cell_id": "bcce8e04cdc34e8cbaea0986de1a35d7",
        "is_collapsed": false,
        "formattedRanges": [],
        "deepnote_app_coordinates": {
          "h": 3,
          "w": 12,
          "x": 0,
          "y": 9
        },
        "deepnote_cell_type": "text-cell-h2"
      }
    },
    {
      "cell_type": "markdown",
      "source": "",
      "metadata": {
        "tags": [],
        "cell_id": "072df1d2-b69c-47eb-9416-f74a6b073800",
        "is_collapsed": false,
        "formattedRanges": [],
        "deepnote_app_coordinates": {
          "h": 3,
          "w": 12,
          "x": 0,
          "y": 12
        },
        "deepnote_cell_type": "text-cell-p"
      }
    },
    {
      "cell_type": "markdown",
      "source": "We need to check whether one variant resulted in a higher conversion rate than another. Let's start with a time series.",
      "metadata": {
        "tags": [],
        "cell_id": "5801f85bb3174e9f9effb011c4b685ea",
        "is_collapsed": false,
        "formattedRanges": [],
        "deepnote_cell_type": "text-cell-p"
      }
    },
    {
      "cell_type": "code",
      "source": "visits['registered'] = visits.signed_up_at.notna()\nvisits = visits.sort_values('visited_at').drop_duplicates('user_id',keep='first').copy()\n\nconversion = visits.copy()\nconversion['week'] = conversion.visited_at.dt.tz_localize(None).dt.to_period('W').dt.to_timestamp()\nconversion = conversion.groupby(['variant','week']).registered.value_counts(normalize=True,dropna=False).reset_index(name='conversion')\nconversion = conversion.loc[conversion.registered == True]",
      "metadata": {
        "tags": [],
        "cell_id": "906a0bfb25b043b6bb63a1caefca94ad",
        "source_hash": "9da94e5d",
        "is_code_hidden": false,
        "execution_start": 1664854944863,
        "execution_millis": 13523355548,
        "deepnote_to_be_reexecuted": true,
        "deepnote_cell_type": "code"
      },
      "outputs": [],
      "execution_count": 0
    },
    {
      "cell_type": "code",
      "source": "DeepnoteChart(conversion, \"\"\"{\"data\":{\"name\":\"placeholder\"},\"mark\":{\"type\":\"line\",\"tooltip\":{\"content\":\"data\"}},\"height\":220,\"$schema\":\"https://vega.github.io/schema/vega-lite/v4.json\",\"autosize\":{\"type\":\"fit\"},\"encoding\":{\"x\":{\"sort\":null,\"type\":\"temporal\",\"field\":\"week\",\"scale\":{\"type\":\"linear\",\"zero\":false}},\"y\":{\"sort\":null,\"type\":\"quantitative\",\"field\":\"conversion\",\"scale\":{\"type\":\"linear\",\"zero\":false}},\"color\":{\"sort\":null,\"type\":\"nominal\",\"field\":\"variant\",\"scale\":{\"type\":\"linear\",\"zero\":false}}}}\"\"\")",
      "metadata": {
        "cell_id": "ca5a55be2fbf4d9ba350b72528dfd597",
        "allow_embed": false,
        "source_hash": "7654fde0",
        "execution_start": 1664854944988,
        "execution_millis": 13523355427,
        "deepnote_variable_name": "conversion",
        "deepnote_app_coordinates": {
          "h": 17,
          "w": 15,
          "x": 0,
          "y": 15
        },
        "deepnote_to_be_reexecuted": true,
        "deepnote_visualization_spec": {
          "data": {
            "name": "placeholder"
          },
          "mark": {
            "type": "line",
            "tooltip": {
              "content": "data"
            }
          },
          "height": 220,
          "$schema": "https://vega.github.io/schema/vega-lite/v4.json",
          "autosize": {
            "type": "fit"
          },
          "encoding": {
            "x": {
              "sort": null,
              "type": "temporal",
              "field": "week",
              "scale": {
                "type": "linear",
                "zero": false
              }
            },
            "y": {
              "sort": null,
              "type": "quantitative",
              "field": "conversion",
              "scale": {
                "type": "linear",
                "zero": false
              }
            },
            "color": {
              "sort": null,
              "type": "nominal",
              "field": "variant",
              "scale": {
                "type": "linear",
                "zero": false
              }
            }
          }
        },
        "deepnote_cell_type": "visualization"
      },
      "outputs": [],
      "execution_count": 0
    },
    {
      "cell_type": "markdown",
      "source": "Here is the overall conversion rate for each variant:",
      "metadata": {
        "tags": [],
        "cell_id": "31b174900069446fa04ab5bfb0738d8d",
        "is_collapsed": false,
        "formattedRanges": [],
        "deepnote_cell_type": "text-cell-p"
      }
    },
    {
      "cell_type": "code",
      "source": "conversion.groupby('variant').conversion.mean().reset_index(name='conversion_rate')",
      "metadata": {
        "tags": [],
        "cell_id": "06c20544b5ea45b88100728990a575eb",
        "source_hash": "219142c8",
        "is_code_hidden": true,
        "execution_start": 1664854945271,
        "execution_millis": 13523355195,
        "deepnote_app_coordinates": {
          "h": 7,
          "w": 8,
          "x": 0,
          "y": 32
        },
        "deepnote_to_be_reexecuted": true,
        "deepnote_app_is_code_hidden": true,
        "deepnote_cell_type": "code"
      },
      "outputs": [],
      "execution_count": 0
    },
    {
      "cell_type": "markdown",
      "source": "### Significance Test",
      "metadata": {
        "tags": [],
        "cell_id": "dc0dee9ba16743e59973f5328f387ac0",
        "is_collapsed": false,
        "formattedRanges": [],
        "deepnote_cell_type": "text-cell-h3"
      }
    },
    {
      "cell_type": "markdown",
      "source": "It looks like Variant B has a higher conversion rate than Variant A. We need to make sure these results are significant.",
      "metadata": {
        "tags": [],
        "cell_id": "02601845c27744809c3ccf8b11c9141e",
        "is_collapsed": false,
        "formattedRanges": [],
        "deepnote_cell_type": "text-cell-p"
      }
    },
    {
      "cell_type": "code",
      "source": "from scipy.stats import chi2_contingency\n\n# Calculate the proportion of registered users for variant A vs B\nproportions = visits.groupby('variant').registered.value_counts(dropna=False).reset_index(name='nusers')\nproportions = proportions.pivot(index='variant',columns='registered',values='nusers')\n\n# Chi-Square test\ng,p,dof,expctd = chi2_contingency(proportions)\n\nprint(f'p-value is {p}')\nif p < 0.05:\n    print(f'The difference in Conversion Rate between Variants A and B is statistically significant.')\nelse:\n    print(f'The difference in Conversion Rate between Variants A and B is NOT statistically significant.')",
      "metadata": {
        "tags": [],
        "cell_id": "f51dd27fa5ab4ff39d0c62df8c5f6c61",
        "source_hash": "1b36c61f",
        "is_code_hidden": true,
        "execution_start": 1664854945286,
        "execution_millis": 13523355184,
        "deepnote_app_coordinates": {
          "h": 7,
          "w": 7,
          "x": 8,
          "y": 32
        },
        "deepnote_to_be_reexecuted": true,
        "deepnote_app_is_code_hidden": true,
        "deepnote_cell_type": "code"
      },
      "outputs": [],
      "execution_count": 0
    },
    {
      "cell_type": "markdown",
      "source": "## Retention Rate",
      "metadata": {
        "tags": [],
        "cell_id": "da323cb4c9a04080a4c695d4011d367a",
        "is_collapsed": false,
        "formattedRanges": [],
        "deepnote_app_coordinates": {
          "h": 3,
          "w": 12,
          "x": 0,
          "y": 39
        },
        "deepnote_cell_type": "text-cell-h2"
      }
    },
    {
      "cell_type": "markdown",
      "source": "We also want to know whether one variant of the website results in higher retention than another variant. For this, let's look at the weekly sessions of our users.",
      "metadata": {
        "tags": [],
        "cell_id": "23b52456d1a5480b9c0c60d8be024310",
        "is_collapsed": false,
        "formattedRanges": [],
        "deepnote_cell_type": "text-cell-p"
      }
    },
    {
      "cell_type": "code",
      "source": "sessions_weekly = _deepnote_execute_sql('select\\n    sessions.user_id,\\n    date_trunc(\\'week\\',users.signed_up_at) as signed_up_at_week,\\n    floor(extract(\\'day\\' from session_started_at - signed_up_at)/7) as week, -- The number of weeks that passed since the user signed up\\n    users_ab.variant\\nfrom\\n    sessions\\n    left join users on sessions.user_id = users.user_id\\n    inner join users_ab on sessions.user_id = users_ab.user_id', 'SQL_26D1FA15_65F7_4B77_8193_83C3976930E2', audit_sql_comment='', sql_cache_mode='cache_disabled')\nsessions_weekly",
      "metadata": {
        "tags": [],
        "cell_id": "66743b94f5ae4cf88c45324485152a66",
        "source_hash": "4c7f0e4b",
        "is_code_hidden": false,
        "execution_start": 1664854945373,
        "execution_millis": 13523355102,
        "is_output_hidden": true,
        "sql_integration_id": "26d1fa15-65f7-4b77-8193-83c3976930e2",
        "deepnote_sql_source": "select\n    sessions.user_id,\n    date_trunc('week',users.signed_up_at) as signed_up_at_week,\n    floor(extract('day' from session_started_at - signed_up_at)/7) as week, -- The number of weeks that passed since the user signed up\n    users_ab.variant\nfrom\n    sessions\n    left join users on sessions.user_id = users.user_id\n    inner join users_ab on sessions.user_id = users_ab.user_id",
        "deepnote_variable_name": "sessions_weekly",
        "deepnote_to_be_reexecuted": true,
        "deepnote_cell_type": "sql"
      },
      "outputs": [],
      "execution_count": 0
    },
    {
      "cell_type": "code",
      "source": "import pandas as pd\n\ndef get_retention(df):\n    retention = df.copy()\n\n    # Save the cohort size before we start calculating retention\n    cohort_size = retention.groupby(['signed_up_at_week']).user_id.nunique().reset_index(name='cohort_size')\n\n    # For each cohort-week, calculate the number of users who visited\n    retention = retention.groupby(['signed_up_at_week','week']).user_id.nunique().reset_index(name='n_users')\n\n    # Pivot and melt the table. This is a little trick that allows us to add rows during weeks where a cohort was not active.\n    retention = retention.pivot(index=['signed_up_at_week'],columns='week',values='n_users').fillna(0)\n    retention = retention.melt(value_name='n_users',ignore_index=False).reset_index()\n\n    # If part of the cohort is still not finished the week, then exclude that cohort-week from the data\n    # To do this we add 6 days to the sign up date. This gives us the last sign ups of that cohort.\n    retention = retention.loc[\n        ~(retention.signed_up_at_week + pd.to_timedelta(retention.week + 1,'W') + pd.Timedelta(6,'D') >\n        pd.Timestamp.now(tz='UTC').floor('D'))\n    ]\n\n    # Divide by the cohort size to get a percentage\n    retention = retention.merge(cohort_size,on=['signed_up_at_week'])\n    retention['prop'] = retention.n_users / retention.cohort_size\n\n    retention_avg = retention.groupby('week').prop.mean().reset_index()\n\n    retention_avg = retention_avg.rename(columns = dict(\n        prop='Retention',\n        week='Week',\n    ))\n\n    return retention_avg\n\nsessions_a = sessions_weekly.loc[sessions_weekly.variant == 'variant_a']\nretention_a = get_retention(sessions_a)\nretention_a['variant'] = 'variant_a'\n\nsessions_b = sessions_weekly.loc[sessions_weekly.variant == 'variant_b']\nretention_b = get_retention(sessions_b)\nretention_b['variant'] = 'variant_b'\n\nretention = pd.concat([retention_a,retention_b])",
      "metadata": {
        "tags": [],
        "cell_id": "407c7a5be47b46a78bc632e8a2203ef6",
        "source_hash": "be284483",
        "is_code_hidden": true,
        "execution_start": 1664854946430,
        "execution_millis": 13523354047,
        "deepnote_to_be_reexecuted": true,
        "deepnote_cell_type": "code"
      },
      "outputs": [],
      "execution_count": 0
    },
    {
      "cell_type": "code",
      "source": "DeepnoteChart(retention, \"\"\"{\"data\":{\"name\":\"placeholder\"},\"mark\":{\"type\":\"line\",\"tooltip\":{\"content\":\"data\"}},\"height\":220,\"$schema\":\"https://vega.github.io/schema/vega-lite/v4.json\",\"autosize\":{\"type\":\"fit\"},\"encoding\":{\"x\":{\"sort\":null,\"type\":\"quantitative\",\"field\":\"Week\",\"scale\":{\"type\":\"linear\",\"zero\":false}},\"y\":{\"sort\":null,\"type\":\"quantitative\",\"field\":\"Retention\",\"scale\":{\"type\":\"linear\",\"zero\":false}},\"color\":{\"sort\":null,\"type\":\"nominal\",\"field\":\"variant\",\"scale\":{\"type\":\"linear\",\"zero\":false}}}}\"\"\")",
      "metadata": {
        "cell_id": "ed44701e60cd43ae8ad5562aef616ad8",
        "allow_embed": false,
        "source_hash": "d20794f1",
        "execution_start": 1664854946497,
        "execution_millis": 13523353989,
        "deepnote_variable_name": "retention",
        "deepnote_app_coordinates": {
          "h": 17,
          "w": 15,
          "x": 0,
          "y": 42
        },
        "deepnote_to_be_reexecuted": true,
        "deepnote_visualization_spec": {
          "data": {
            "name": "placeholder"
          },
          "mark": {
            "type": "line",
            "tooltip": {
              "content": "data"
            }
          },
          "height": 220,
          "$schema": "https://vega.github.io/schema/vega-lite/v4.json",
          "autosize": {
            "type": "fit"
          },
          "encoding": {
            "x": {
              "sort": null,
              "type": "quantitative",
              "field": "Week",
              "scale": {
                "type": "linear",
                "zero": false
              }
            },
            "y": {
              "sort": null,
              "type": "quantitative",
              "field": "Retention",
              "scale": {
                "type": "linear",
                "zero": false
              }
            },
            "color": {
              "sort": null,
              "type": "nominal",
              "field": "variant",
              "scale": {
                "type": "linear",
                "zero": false
              }
            }
          }
        },
        "deepnote_cell_type": "visualization"
      },
      "outputs": [],
      "execution_count": 0
    },
    {
      "cell_type": "markdown",
      "source": "Here is the Week-4 Retention for each variant.",
      "metadata": {
        "tags": [],
        "cell_id": "55bc90be0d244d2990b72262e6b0c113",
        "is_collapsed": false,
        "formattedRanges": [],
        "deepnote_cell_type": "text-cell-p"
      }
    },
    {
      "cell_type": "code",
      "source": "retention.loc[retention.Week == 4][['variant','Retention']].reset_index(drop=True)",
      "metadata": {
        "tags": [],
        "cell_id": "e7a21126d94f41ccbeae7c00e21516f5",
        "source_hash": "c592c9bc",
        "execution_start": 1664854946614,
        "execution_millis": 13523353872,
        "deepnote_app_coordinates": {
          "h": 7,
          "w": 8,
          "x": 0,
          "y": 59
        },
        "deepnote_to_be_reexecuted": true,
        "deepnote_app_is_code_hidden": true,
        "deepnote_cell_type": "code"
      },
      "outputs": [],
      "execution_count": 0
    },
    {
      "cell_type": "markdown",
      "source": "### Significance Test",
      "metadata": {
        "tags": [],
        "cell_id": "ad900914b48d42ab9d2c5ccc1e247ca9",
        "is_collapsed": false,
        "formattedRanges": [],
        "deepnote_cell_type": "text-cell-h3"
      }
    },
    {
      "cell_type": "markdown",
      "source": "Once again, check that the difference in retention is significance.",
      "metadata": {
        "tags": [],
        "cell_id": "f6305d5cde154022a9cb5ccd3bd9cf5c",
        "is_collapsed": false,
        "formattedRanges": [],
        "deepnote_cell_type": "text-cell-p"
      }
    },
    {
      "cell_type": "code",
      "source": "from scipy.stats import ttest_ind\n\n# Label all users who retained 4+ weeks later\nusers_retention = sessions_weekly.groupby(['user_id','variant']).apply(lambda x: x.week.max() >= 4).reset_index(name='retained')\n\n# Calculate the proportion of retained users for variant A vs B\nproportions = users_retention.groupby('variant').retained.value_counts(dropna=False).reset_index(name='nusers')\nproportions = proportions.pivot(index='variant',columns='retained',values='nusers')\n\n# Chi-Square test\ng,p,dof,expctd = chi2_contingency(proportions)\n\nprint(f'p-value is {p}')\nif p < 0.05:\n    print(f'The difference in Retention between Variants A and B is statistically significant.')\nelse:\n    print(f'The difference in Retention between Variants A and B is NOT statistically significant.')",
      "metadata": {
        "tags": [],
        "cell_id": "1f9e97f82459413ea7c80f79211db935",
        "allow_embed": false,
        "source_hash": "cfd5b6f7",
        "owner_user_id": "fb4d863f-e14b-4cec-a271-8335944bc775",
        "is_code_hidden": true,
        "execution_start": 1664854946658,
        "execution_millis": 13523353829,
        "deepnote_app_coordinates": {
          "h": 7,
          "w": 7,
          "x": 8,
          "y": 59
        },
        "deepnote_to_be_reexecuted": true,
        "deepnote_app_is_code_hidden": true,
        "deepnote_cell_type": "code"
      },
      "outputs": [],
      "execution_count": 0
    },
    {
      "cell_type": "markdown",
      "source": "<a style='text-decoration:none;line-height:16px;display:flex;color:#5B5B62;padding:10px;justify-content:end;' href='https://deepnote.com?utm_source=created-in-deepnote-cell&projectId=b4c251b4-c11a-481e-8206-c29934eb75da' target=\"_blank\">\n<img alt='Created in deepnote.com' style='display:inline;max-height:16px;margin:0px;margin-right:7.5px;' src='data:image/svg+xml;base64,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' > </img>\nCreated in <span style='font-weight:600;margin-left:4px;'>Deepnote</span></a>",
      "metadata": {
        "created_in_deepnote_cell": true,
        "deepnote_cell_type": "markdown"
      }
    }
  ],
  "nbformat": 4,
  "nbformat_minor": 0,
  "metadata": {
    "deepnote": {},
    "orig_nbformat": 2,
    "deepnote_app_layout": "dashboard",
    "deepnote_notebook_id": "377269a4c09f46908203c402cb8545b0",
    "deepnote_execution_queue": []
  }
}