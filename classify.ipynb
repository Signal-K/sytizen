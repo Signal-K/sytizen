{
 "cells": [
  {
   "cell_type": "code",
   "execution_count": 29,
   "metadata": {},
   "outputs": [],
   "source": [
    "import matplotlib.pyplot as plt\n",
    "import lightkurve as lk"
   ]
  },
  {
   "cell_type": "code",
   "execution_count": 30,
   "metadata": {},
   "outputs": [
    {
     "data": {
      "text/html": [
       "SearchResult containing 33 data products.\n",
       "\n",
       "<table id=\"table10790002480\">\n",
       "<thead><tr><th>#</th><th>mission</th><th>year</th><th>author</th><th>exptime</th><th>target_name</th><th>distance</th></tr></thead>\n",
       "<thead><tr><th></th><th></th><th></th><th></th><th>s</th><th></th><th>arcsec</th></tr></thead>\n",
       "<tr><td>0</td><td>Kepler Quarter 01</td><td>2009</td><td><a href='https://archive.stsci.edu/kepler/data_products.html'>Kepler</a></td><td>1800</td><td>kplr009941136</td><td>0.0</td></tr>\n",
       "<tr><td>1</td><td>Kepler Quarter 02</td><td>2009</td><td><a href='https://archive.stsci.edu/kepler/data_products.html'>Kepler</a></td><td>1800</td><td>kplr009941136</td><td>0.0</td></tr>\n",
       "<tr><td>2</td><td>Kepler Quarter 03</td><td>2009</td><td><a href='https://archive.stsci.edu/kepler/data_products.html'>Kepler</a></td><td>1800</td><td>kplr009941136</td><td>0.0</td></tr>\n",
       "<tr><td>3</td><td>Kepler Quarter 04</td><td>2010</td><td><a href='https://archive.stsci.edu/kepler/data_products.html'>Kepler</a></td><td>1800</td><td>kplr009941136</td><td>0.0</td></tr>\n",
       "<tr><td>4</td><td>Kepler Quarter 05</td><td>2010</td><td><a href='https://archive.stsci.edu/kepler/data_products.html'>Kepler</a></td><td>1800</td><td>kplr009941136</td><td>0.0</td></tr>\n",
       "<tr><td>5</td><td>Kepler Quarter 06</td><td>2010</td><td><a href='https://archive.stsci.edu/kepler/data_products.html'>Kepler</a></td><td>1800</td><td>kplr009941136</td><td>0.0</td></tr>\n",
       "<tr><td>6</td><td>Kepler Quarter 07</td><td>2010</td><td><a href='https://archive.stsci.edu/kepler/data_products.html'>Kepler</a></td><td>1800</td><td>kplr009941136</td><td>0.0</td></tr>\n",
       "<tr><td>7</td><td>Kepler Quarter 08</td><td>2011</td><td><a href='https://archive.stsci.edu/kepler/data_products.html'>Kepler</a></td><td>1800</td><td>kplr009941136</td><td>0.0</td></tr>\n",
       "<tr><td>8</td><td>Kepler Quarter 09</td><td>2011</td><td><a href='https://archive.stsci.edu/kepler/data_products.html'>Kepler</a></td><td>1800</td><td>kplr009941136</td><td>0.0</td></tr>\n",
       "<tr><td>9</td><td>Kepler Quarter 10</td><td>2011</td><td><a href='https://archive.stsci.edu/kepler/data_products.html'>Kepler</a></td><td>1800</td><td>kplr009941136</td><td>0.0</td></tr>\n",
       "<tr><td>...</td><td>...</td><td>...</td><td>...</td><td>...</td><td>...</td><td>...</td></tr>\n",
       "<tr><td>23</td><td>TESS Sector 41</td><td>2021</td><td><a href='https://archive.stsci.edu/hlsp/tess-spoc'>TESS-SPOC</a></td><td>600</td><td>158272852</td><td>0.0</td></tr>\n",
       "<tr><td>24</td><td>TESS Sector 41</td><td>2021</td><td><a href='https://archive.stsci.edu/hlsp/qlp'>QLP</a></td><td>600</td><td>158272852</td><td>0.0</td></tr>\n",
       "<tr><td>25</td><td>TESS Sector 53</td><td>2022</td><td><a href='https://heasarc.gsfc.nasa.gov/docs/tess/pipeline.html'>SPOC</a></td><td>120</td><td>158272852</td><td>0.0</td></tr>\n",
       "<tr><td>26</td><td>TESS Sector 53</td><td>2022</td><td><a href='https://archive.stsci.edu/hlsp/tess-spoc'>TESS-SPOC</a></td><td>600</td><td>158272852</td><td>0.0</td></tr>\n",
       "<tr><td>27</td><td>TESS Sector 53</td><td>2022</td><td><a href='https://archive.stsci.edu/hlsp/qlp'>QLP</a></td><td>600</td><td>158272852</td><td>0.0</td></tr>\n",
       "<tr><td>28</td><td>TESS Sector 54</td><td>2022</td><td><a href='https://heasarc.gsfc.nasa.gov/docs/tess/pipeline.html'>SPOC</a></td><td>120</td><td>158272852</td><td>0.0</td></tr>\n",
       "<tr><td>29</td><td>TESS Sector 54</td><td>2022</td><td><a href='https://archive.stsci.edu/hlsp/tess-spoc'>TESS-SPOC</a></td><td>600</td><td>158272852</td><td>0.0</td></tr>\n",
       "<tr><td>30</td><td>TESS Sector 54</td><td>2022</td><td><a href='https://archive.stsci.edu/hlsp/qlp'>QLP</a></td><td>600</td><td>158272852</td><td>0.0</td></tr>\n",
       "<tr><td>31</td><td>TESS Sector 55</td><td>2022</td><td><a href='https://heasarc.gsfc.nasa.gov/docs/tess/pipeline.html'>SPOC</a></td><td>120</td><td>158272852</td><td>0.0</td></tr>\n",
       "<tr><td>32</td><td>TESS Sector 55</td><td>2022</td><td><a href='https://archive.stsci.edu/hlsp/tess-spoc'>TESS-SPOC</a></td><td>600</td><td>158272852</td><td>0.0</td></tr>\n",
       "</table>\n",
       "Length = 33 rows"
      ],
      "text/plain": [
       "SearchResult containing 33 data products.\n",
       "\n",
       " #       mission      year   author  exptime  target_name  distance\n",
       "                                        s                   arcsec \n",
       "--- ----------------- ---- --------- ------- ------------- --------\n",
       "  0 Kepler Quarter 01 2009    Kepler    1800 kplr009941136      0.0\n",
       "  1 Kepler Quarter 02 2009    Kepler    1800 kplr009941136      0.0\n",
       "  2 Kepler Quarter 03 2009    Kepler    1800 kplr009941136      0.0\n",
       "  3 Kepler Quarter 04 2010    Kepler    1800 kplr009941136      0.0\n",
       "  4 Kepler Quarter 05 2010    Kepler    1800 kplr009941136      0.0\n",
       "  5 Kepler Quarter 06 2010    Kepler    1800 kplr009941136      0.0\n",
       "  6 Kepler Quarter 07 2010    Kepler    1800 kplr009941136      0.0\n",
       "  7 Kepler Quarter 08 2011    Kepler    1800 kplr009941136      0.0\n",
       "  8 Kepler Quarter 09 2011    Kepler    1800 kplr009941136      0.0\n",
       "  9 Kepler Quarter 10 2011    Kepler    1800 kplr009941136      0.0\n",
       "...               ...  ...       ...     ...           ...      ...\n",
       " 23    TESS Sector 41 2021 TESS-SPOC     600     158272852      0.0\n",
       " 24    TESS Sector 41 2021       QLP     600     158272852      0.0\n",
       " 25    TESS Sector 53 2022      SPOC     120     158272852      0.0\n",
       " 26    TESS Sector 53 2022 TESS-SPOC     600     158272852      0.0\n",
       " 27    TESS Sector 53 2022       QLP     600     158272852      0.0\n",
       " 28    TESS Sector 54 2022      SPOC     120     158272852      0.0\n",
       " 29    TESS Sector 54 2022 TESS-SPOC     600     158272852      0.0\n",
       " 30    TESS Sector 54 2022       QLP     600     158272852      0.0\n",
       " 31    TESS Sector 55 2022      SPOC     120     158272852      0.0\n",
       " 32    TESS Sector 55 2022 TESS-SPOC     600     158272852      0.0\n",
       "Length = 33 rows"
      ]
     },
     "execution_count": 30,
     "metadata": {},
     "output_type": "execute_result"
    }
   ],
   "source": [
    "TIC = 'KOI-5737'\n",
    "sector_data = lk.search_lightcurve(TIC)#, author = 'Kepler', sector = 4)\n",
    "sector_data"
   ]
  },
  {
   "cell_type": "code",
   "execution_count": 31,
   "metadata": {},
   "outputs": [
    {
     "name": "stderr",
     "output_type": "stream",
     "text": [
      "/Users/buyer/Documents/Lens/client/api/.venv/lib/python3.10/site-packages/lightkurve/search.py:414: LightkurveWarning: Warning: 33 files available to download. Only the first file has been downloaded. Please use `download_all()` or specify additional criteria (e.g. quarter, campaign, or sector) to limit your search.\n",
      "  warnings.warn(\n"
     ]
    },
    {
     "data": {
      "text/plain": [
       "<bound method LightCurve.plot of <KeplerLightCurve length=1626 LABEL=\"KIC 9941136\" QUARTER=1 AUTHOR=Kepler FLUX_ORIGIN=pdcsap_flux>\n",
       "       time             flux      ...   pos_corr1      pos_corr2   \n",
       "                    electron / s  ...      pix            pix      \n",
       "       Time           float32     ...    float32        float32    \n",
       "------------------ -------------- ... -------------- --------------\n",
       "131.51244225827395  4.7089215e+04 ...  2.6293437e-03  3.3200927e-02\n",
       "131.53287665420066  4.7093684e+04 ...  2.6101163e-03  3.3248212e-02\n",
       "131.55331094990106  4.7077500e+04 ...  2.4755427e-03  3.3306699e-02\n",
       "131.57374514559342  4.7094590e+04 ...  2.4650362e-03  3.3128560e-02\n",
       "131.59417944129382  4.7097828e+04 ...  2.5058992e-03  3.2768309e-02\n",
       "131.61461383676215  4.7100301e+04 ...  2.6655255e-03  3.2760322e-02\n",
       "131.63504803222895  4.7087926e+04 ...  2.6500130e-03  3.2558721e-02\n",
       "131.65548232757283  4.7096176e+04 ...  2.7775734e-03  3.2510962e-02\n",
       "131.67591672292474  4.7090195e+04 ...  2.6946210e-03  3.2471433e-02\n",
       "               ...            ... ...            ...            ...\n",
       "164.79974719352322  4.7139793e+04 ... -7.1339584e-03 -3.9322432e-02\n",
       "164.82018126756884  4.7151883e+04 ... -7.2378949e-03 -3.9240196e-02\n",
       " 164.8406152416137  4.7140863e+04 ... -7.2769588e-03 -3.9929554e-02\n",
       "164.86104941518715  4.7145523e+04 ... -7.3062433e-03 -3.9926313e-02\n",
       "164.88148348876712  4.7147047e+04 ... -7.4698385e-03 -3.9770547e-02\n",
       "164.90191746188066  4.7156660e+04 ... -7.6396242e-03 -3.9681174e-02\n",
       "164.92235153498768  4.7132125e+04 ... -7.9446798e-03 -3.8877174e-02\n",
       "164.94278570786992  4.7144445e+04 ... -7.9309782e-03 -3.9496526e-02\n",
       "164.96321968075063  4.7145695e+04 ... -8.3779823e-03 -3.9639719e-02\n",
       "164.98365375316644  4.7158090e+04 ... -8.2962895e-03 -3.9534803e-02>"
      ]
     },
     "execution_count": 31,
     "metadata": {},
     "output_type": "execute_result"
    }
   ],
   "source": [
    "lc = sector_data.download()\n",
    "lc.plot"
   ]
  },
  {
   "cell_type": "code",
   "execution_count": 32,
   "metadata": {},
   "outputs": [
    {
     "data": {
      "text/plain": [
       "<Axes: xlabel='Time - 2454833 [BKJD days]', ylabel='Flux [$\\\\mathrm{e^{-}\\\\,s^{-1}}$]'>"
      ]
     },
     "execution_count": 32,
     "metadata": {},
     "output_type": "execute_result"
    }
   ],
   "source": [
    "lc.plot(linewidth = 0, marker = '*', color = 'aqua', alpha = 1)"
   ]
  }
 ],
 "metadata": {
  "kernelspec": {
   "display_name": "Server-TQAYaEQm",
   "language": "python",
   "name": "python3"
  },
  "language_info": {
   "codemirror_mode": {
    "name": "ipython",
    "version": 3
   },
   "file_extension": ".py",
   "mimetype": "text/x-python",
   "name": "python",
   "nbconvert_exporter": "python",
   "pygments_lexer": "ipython3",
   "version": "3.10.9"
  },
  "orig_nbformat": 4
 },
 "nbformat": 4,
 "nbformat_minor": 2
}
