{
 "cells": [
  {
   "cell_type": "code",
   "execution_count": 25,
   "metadata": {},
   "outputs": [],
   "source": [
    "import matplotlib.pyplot as plt\n",
    "import lightkurve as lk"
   ]
  },
  {
   "cell_type": "code",
   "execution_count": 26,
   "metadata": {},
   "outputs": [
    {
     "data": {
      "text/html": [
       "SearchResult containing 79 data products.\n",
       "\n",
       "<table id=\"table10787548288\">\n",
       "<thead><tr><th>#</th><th>mission</th><th>year</th><th>author</th><th>exptime</th><th>target_name</th><th>distance</th></tr></thead>\n",
       "<thead><tr><th></th><th></th><th></th><th></th><th>s</th><th></th><th>arcsec</th></tr></thead>\n",
       "<tr><td>0</td><td>Kepler Quarter 00</td><td>2009</td><td><a href='https://archive.stsci.edu/kepler/data_products.html'>Kepler</a></td><td>1800</td><td>kplr010593626</td><td>0.0</td></tr>\n",
       "<tr><td>1</td><td>Kepler Quarter 01</td><td>2009</td><td><a href='https://archive.stsci.edu/kepler/data_products.html'>Kepler</a></td><td>1800</td><td>kplr010593626</td><td>0.0</td></tr>\n",
       "<tr><td>2</td><td>Kepler Quarter 02</td><td>2009</td><td><a href='https://archive.stsci.edu/kepler/data_products.html'>Kepler</a></td><td>60</td><td>kplr010593626</td><td>0.0</td></tr>\n",
       "<tr><td>3</td><td>Kepler Quarter 02</td><td>2009</td><td><a href='https://archive.stsci.edu/kepler/data_products.html'>Kepler</a></td><td>1800</td><td>kplr010593626</td><td>0.0</td></tr>\n",
       "<tr><td>4</td><td>Kepler Quarter 03</td><td>2009</td><td><a href='https://archive.stsci.edu/kepler/data_products.html'>Kepler</a></td><td>60</td><td>kplr010593626</td><td>0.0</td></tr>\n",
       "<tr><td>5</td><td>Kepler Quarter 03</td><td>2009</td><td><a href='https://archive.stsci.edu/kepler/data_products.html'>Kepler</a></td><td>60</td><td>kplr010593626</td><td>0.0</td></tr>\n",
       "<tr><td>6</td><td>Kepler Quarter 03</td><td>2009</td><td><a href='https://archive.stsci.edu/kepler/data_products.html'>Kepler</a></td><td>60</td><td>kplr010593626</td><td>0.0</td></tr>\n",
       "<tr><td>7</td><td>Kepler Quarter 03</td><td>2009</td><td><a href='https://archive.stsci.edu/kepler/data_products.html'>Kepler</a></td><td>1800</td><td>kplr010593626</td><td>0.0</td></tr>\n",
       "<tr><td>8</td><td>Kepler Quarter 04</td><td>2010</td><td><a href='https://archive.stsci.edu/kepler/data_products.html'>Kepler</a></td><td>60</td><td>kplr010593626</td><td>0.0</td></tr>\n",
       "<tr><td>9</td><td>Kepler Quarter 04</td><td>2010</td><td><a href='https://archive.stsci.edu/kepler/data_products.html'>Kepler</a></td><td>60</td><td>kplr010593626</td><td>0.0</td></tr>\n",
       "<tr><td>...</td><td>...</td><td>...</td><td>...</td><td>...</td><td>...</td><td>...</td></tr>\n",
       "<tr><td>69</td><td>TESS Sector 41</td><td>2021</td><td><a href='https://archive.stsci.edu/hlsp/tess-spoc'>TESS-SPOC</a></td><td>600</td><td>158984573</td><td>0.0</td></tr>\n",
       "<tr><td>70</td><td>TESS Sector 41</td><td>2021</td><td><a href='https://archive.stsci.edu/hlsp/qlp'>QLP</a></td><td>600</td><td>158984573</td><td>0.0</td></tr>\n",
       "<tr><td>71</td><td>TESS Sector 53</td><td>2022</td><td><a href='https://heasarc.gsfc.nasa.gov/docs/tess/pipeline.html'>SPOC</a></td><td>120</td><td>158984573</td><td>0.0</td></tr>\n",
       "<tr><td>72</td><td>TESS Sector 53</td><td>2022</td><td><a href='https://archive.stsci.edu/hlsp/tess-spoc'>TESS-SPOC</a></td><td>600</td><td>158984573</td><td>0.0</td></tr>\n",
       "<tr><td>73</td><td>TESS Sector 53</td><td>2022</td><td><a href='https://archive.stsci.edu/hlsp/qlp'>QLP</a></td><td>600</td><td>158984573</td><td>0.0</td></tr>\n",
       "<tr><td>74</td><td>TESS Sector 54</td><td>2022</td><td><a href='https://heasarc.gsfc.nasa.gov/docs/tess/pipeline.html'>SPOC</a></td><td>120</td><td>158984573</td><td>0.0</td></tr>\n",
       "<tr><td>75</td><td>TESS Sector 54</td><td>2022</td><td><a href='https://archive.stsci.edu/hlsp/tess-spoc'>TESS-SPOC</a></td><td>600</td><td>158984573</td><td>0.0</td></tr>\n",
       "<tr><td>76</td><td>TESS Sector 54</td><td>2022</td><td><a href='https://archive.stsci.edu/hlsp/qlp'>QLP</a></td><td>600</td><td>158984573</td><td>0.0</td></tr>\n",
       "<tr><td>77</td><td>TESS Sector 55</td><td>2022</td><td><a href='https://heasarc.gsfc.nasa.gov/docs/tess/pipeline.html'>SPOC</a></td><td>120</td><td>158984573</td><td>0.0</td></tr>\n",
       "<tr><td>78</td><td>TESS Sector 55</td><td>2022</td><td><a href='https://archive.stsci.edu/hlsp/tess-spoc'>TESS-SPOC</a></td><td>600</td><td>158984573</td><td>0.0</td></tr>\n",
       "</table>\n",
       "Length = 79 rows"
      ],
      "text/plain": [
       "SearchResult containing 79 data products.\n",
       "\n",
       " #       mission      year   author  exptime  target_name  distance\n",
       "                                        s                   arcsec \n",
       "--- ----------------- ---- --------- ------- ------------- --------\n",
       "  0 Kepler Quarter 00 2009    Kepler    1800 kplr010593626      0.0\n",
       "  1 Kepler Quarter 01 2009    Kepler    1800 kplr010593626      0.0\n",
       "  2 Kepler Quarter 02 2009    Kepler      60 kplr010593626      0.0\n",
       "  3 Kepler Quarter 02 2009    Kepler    1800 kplr010593626      0.0\n",
       "  4 Kepler Quarter 03 2009    Kepler      60 kplr010593626      0.0\n",
       "  5 Kepler Quarter 03 2009    Kepler      60 kplr010593626      0.0\n",
       "  6 Kepler Quarter 03 2009    Kepler      60 kplr010593626      0.0\n",
       "  7 Kepler Quarter 03 2009    Kepler    1800 kplr010593626      0.0\n",
       "  8 Kepler Quarter 04 2010    Kepler      60 kplr010593626      0.0\n",
       "  9 Kepler Quarter 04 2010    Kepler      60 kplr010593626      0.0\n",
       "...               ...  ...       ...     ...           ...      ...\n",
       " 69    TESS Sector 41 2021 TESS-SPOC     600     158984573      0.0\n",
       " 70    TESS Sector 41 2021       QLP     600     158984573      0.0\n",
       " 71    TESS Sector 53 2022      SPOC     120     158984573      0.0\n",
       " 72    TESS Sector 53 2022 TESS-SPOC     600     158984573      0.0\n",
       " 73    TESS Sector 53 2022       QLP     600     158984573      0.0\n",
       " 74    TESS Sector 54 2022      SPOC     120     158984573      0.0\n",
       " 75    TESS Sector 54 2022 TESS-SPOC     600     158984573      0.0\n",
       " 76    TESS Sector 54 2022       QLP     600     158984573      0.0\n",
       " 77    TESS Sector 55 2022      SPOC     120     158984573      0.0\n",
       " 78    TESS Sector 55 2022 TESS-SPOC     600     158984573      0.0\n",
       "Length = 79 rows"
      ]
     },
     "execution_count": 26,
     "metadata": {},
     "output_type": "execute_result"
    }
   ],
   "source": [
    "TIC = 'Kepler-22'\n",
    "sector_data = lk.search_lightcurve(TIC)#, author = 'Kepler', sector = 4)\n",
    "sector_data"
   ]
  },
  {
   "cell_type": "code",
   "execution_count": 27,
   "metadata": {},
   "outputs": [
    {
     "name": "stderr",
     "output_type": "stream",
     "text": [
      "/Users/buyer/Documents/Lens/client/api/.venv/lib/python3.10/site-packages/lightkurve/search.py:414: LightkurveWarning: Warning: 79 files available to download. Only the first file has been downloaded. Please use `download_all()` or specify additional criteria (e.g. quarter, campaign, or sector) to limit your search.\n",
      "  warnings.warn(\n"
     ]
    },
    {
     "data": {
      "text/plain": [
       "<bound method LightCurve.plot of <KeplerLightCurve length=473 LABEL=\"KIC 10593626\" QUARTER=0 AUTHOR=Kepler FLUX_ORIGIN=pdcsap_flux>\n",
       "       time             flux      ...   pos_corr1      pos_corr2   \n",
       "                    electron / s  ...      pix            pix      \n",
       "       Time           float32     ...    float32        float32    \n",
       "------------------ -------------- ... -------------- --------------\n",
       "120.53900742435508  3.1230866e+05 ... -1.4607409e-03  3.5337068e-03\n",
       "120.55944174409524  3.1227566e+05 ... -1.1929076e-03  3.6978703e-03\n",
       "120.57987596383464  3.1231019e+05 ... -1.0024284e-03  3.5327603e-03\n",
       "120.60031038356829  3.1222909e+05 ... -5.6158245e-04  3.3443142e-03\n",
       "120.62074470325024  3.1228475e+05 ... -2.9510944e-04  3.3509261e-03\n",
       "120.64117892293143  3.1226291e+05 ... -8.1684761e-05  2.9048885e-03\n",
       "120.66161324260611  3.1225712e+05 ...  1.0091478e-04  3.1171264e-03\n",
       "120.68204766223062  3.1227575e+05 ...  9.1682872e-05  2.9421994e-03\n",
       " 120.7024818818536  3.1228972e+05 ...  7.8031801e-05  3.0023353e-03\n",
       "               ...            ... ...            ...            ...\n",
       "130.06139618538873  3.1227928e+05 ... -1.3975312e-03 -6.0265381e-03\n",
       "130.08183048958017  3.1232847e+05 ... -1.4220489e-03 -5.8140722e-03\n",
       "130.10226489377965  3.1231738e+05 ... -1.8516479e-03 -6.3083121e-03\n",
       " 130.1226990978612  3.1228753e+05 ... -1.9833208e-03 -6.4953128e-03\n",
       " 130.1431334019362  3.1229247e+05 ... -1.9515557e-03 -6.5485328e-03\n",
       "130.16356780601927  3.1225488e+05 ... -2.0065466e-03 -6.8118265e-03\n",
       "130.18400210998516  3.1232478e+05 ... -2.1485856e-03 -6.4497669e-03\n",
       " 130.2044363138266  3.1226384e+05 ... -2.0192796e-03 -6.8913954e-03\n",
       "130.22487061767606  3.1230791e+05 ... -1.9976655e-03 -6.4909309e-03\n",
       " 130.2453050215263  3.1229631e+05 ... -1.9775007e-03 -6.1915945e-03>"
      ]
     },
     "execution_count": 27,
     "metadata": {},
     "output_type": "execute_result"
    }
   ],
   "source": [
    "lc = sector_data.download()\n",
    "lc.plot"
   ]
  },
  {
   "cell_type": "code",
   "execution_count": 28,
   "metadata": {},
   "outputs": [
    {
     "data": {
      "text/plain": [
       "<Axes: xlabel='Time - 2454833 [BKJD days]', ylabel='Flux [$\\\\mathrm{e^{-}\\\\,s^{-1}}$]'>"
      ]
     },
     "execution_count": 28,
     "metadata": {},
     "output_type": "execute_result"
    }
   ],
   "source": [
    "lc.plot(linewidth = 0, marker = '*', color = 'aqua', alpha = 1)"
   ]
  }
 ],
 "metadata": {
  "kernelspec": {
   "display_name": "Server-TQAYaEQm",
   "language": "python",
   "name": "python3"
  },
  "language_info": {
   "codemirror_mode": {
    "name": "ipython",
    "version": 3
   },
   "file_extension": ".py",
   "mimetype": "text/x-python",
   "name": "python",
   "nbconvert_exporter": "python",
   "pygments_lexer": "ipython3",
   "version": "3.10.9"
  },
  "orig_nbformat": 4
 },
 "nbformat": 4,
 "nbformat_minor": 2
}
