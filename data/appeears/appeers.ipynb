{
 "cells": [
  {
   "cell_type": "code",
   "execution_count": null,
   "id": "9f6907c2",
   "metadata": {},
   "outputs": [
    {
     "ename": "",
     "evalue": "",
     "output_type": "error",
     "traceback": [
      "\u001b[1;31mRunning cells with '.venv' requires the ipykernel package.\n",
      "\u001b[1;31mRun the following command to install 'ipykernel' into the Python environment. \n",
      "\u001b[1;31mCommand: '/workspace/sytizen/.venv/bin/python -m pip install ipykernel -U --force-reinstall'"
     ]
    }
   ],
   "source": [
    "import requests\n",
    "import getpass\n",
    "import json\n",
    "import random\n",
    "response = requests.get(\n",
    "    'https://appeears.earthdatacloud.nasa.gov/api/product')\n",
    "product_response = response.json()\n",
    "print(product_response)"
   ]
  },
  {
   "cell_type": "code",
   "execution_count": null,
   "id": "07cff7c7",
   "metadata": {},
   "outputs": [
    {
     "ename": "",
     "evalue": "",
     "output_type": "error",
     "traceback": [
      "\u001b[1;31mRunning cells with '.venv' requires the ipykernel package.\n",
      "\u001b[1;31mRun the following command to install 'ipykernel' into the Python environment. \n",
      "\u001b[1;31mCommand: '/workspace/sytizen/.venv/bin/python -m pip install ipykernel -U --force-reinstall'"
     ]
    }
   ],
   "source": [
    "json.dumps(product_response[0])"
   ]
  },
  {
   "cell_type": "code",
   "execution_count": null,
   "id": "091cba00",
   "metadata": {},
   "outputs": [
    {
     "ename": "",
     "evalue": "",
     "output_type": "error",
     "traceback": [
      "\u001b[1;31mRunning cells with '.venv' requires the ipykernel package.\n",
      "\u001b[1;31mRun the following command to install 'ipykernel' into the Python environment. \n",
      "\u001b[1;31mCommand: '/workspace/sytizen/.venv/bin/python -m pip install ipykernel -U --force-reinstall'"
     ]
    }
   ],
   "source": [
    "loc = input('location: ')"
   ]
  },
  {
   "cell_type": "code",
   "execution_count": null,
   "id": "0bc8ba4d",
   "metadata": {},
   "outputs": [
    {
     "ename": "",
     "evalue": "",
     "output_type": "error",
     "traceback": [
      "\u001b[1;31mRunning cells with '.venv' requires the ipykernel package.\n",
      "\u001b[1;31mRun the following command to install 'ipykernel' into the Python environment. \n",
      "\u001b[1;31mCommand: '/workspace/sytizen/.venv/bin/python -m pip install ipykernel -U --force-reinstall'"
     ]
    }
   ],
   "source": [
    "geoloc = requests.get('https://geocode.maps.co/search?q={' + loc + '}')"
   ]
  },
  {
   "cell_type": "code",
   "execution_count": null,
   "id": "19644972",
   "metadata": {},
   "outputs": [
    {
     "ename": "",
     "evalue": "",
     "output_type": "error",
     "traceback": [
      "\u001b[1;31mRunning cells with '.venv' requires the ipykernel package.\n",
      "\u001b[1;31mRun the following command to install 'ipykernel' into the Python environment. \n",
      "\u001b[1;31mCommand: '/workspace/sytizen/.venv/bin/python -m pip install ipykernel -U --force-reinstall'"
     ]
    }
   ],
   "source": [
    "print(geoloc.json())"
   ]
  },
  {
   "cell_type": "code",
   "execution_count": null,
   "id": "c1576dfe",
   "metadata": {},
   "outputs": [
    {
     "ename": "",
     "evalue": "",
     "output_type": "error",
     "traceback": [
      "\u001b[1;31mRunning cells with '.venv' requires the ipykernel package.\n",
      "\u001b[1;31mRun the following command to install 'ipykernel' into the Python environment. \n",
      "\u001b[1;31mCommand: '/workspace/sytizen/.venv/bin/python -m pip install ipykernel -U --force-reinstall'"
     ]
    }
   ],
   "source": [
    "username = input('username:')\n",
    "\n",
    "pswd = getpass.getpass('Password:')"
   ]
  },
  {
   "cell_type": "code",
   "execution_count": null,
   "id": "a8efedff",
   "metadata": {},
   "outputs": [
    {
     "ename": "",
     "evalue": "",
     "output_type": "error",
     "traceback": [
      "\u001b[1;31mRunning cells with '.venv' requires the ipykernel package.\n",
      "\u001b[1;31mRun the following command to install 'ipykernel' into the Python environment. \n",
      "\u001b[1;31mCommand: '/workspace/sytizen/.venv/bin/python -m pip install ipykernel -U --force-reinstall'"
     ]
    }
   ],
   "source": [
    "response = requests.post('https://appeears.earthdatacloud.nasa.gov/api/login', auth=(username, pswd))\n",
    "token_response = response.json()\n",
    "print(token_response)"
   ]
  },
  {
   "cell_type": "code",
   "execution_count": null,
   "id": "f8d3f9dc",
   "metadata": {},
   "outputs": [
    {
     "ename": "",
     "evalue": "",
     "output_type": "error",
     "traceback": [
      "\u001b[1;31mRunning cells with '.venv' requires the ipykernel package.\n",
      "\u001b[1;31mRun the following command to install 'ipykernel' into the Python environment. \n",
      "\u001b[1;31mCommand: '/workspace/sytizen/.venv/bin/python -m pip install ipykernel -U --force-reinstall'"
     ]
    }
   ],
   "source": [
    "token = token_response['token']\n",
    "response = requests.get(\n",
    "    'https://appeears.earthdatacloud.nasa.gov/api/task', \n",
    "    headers={'Authorization': 'Bearer {0}'.format(token)})\n",
    "task_response = response.json()\n",
    "print(task_response)"
   ]
  },
  {
   "cell_type": "code",
   "execution_count": null,
   "id": "8da54252",
   "metadata": {},
   "outputs": [
    {
     "ename": "",
     "evalue": "",
     "output_type": "error",
     "traceback": [
      "\u001b[1;31mRunning cells with '.venv' requires the ipykernel package.\n",
      "\u001b[1;31mRun the following command to install 'ipykernel' into the Python environment. \n",
      "\u001b[1;31mCommand: '/workspace/sytizen/.venv/bin/python -m pip install ipykernel -U --force-reinstall'"
     ]
    }
   ],
   "source": [
    "product_id = 'SRTMGL1_NUMNC.003'\n",
    "response = requests.get('https://appeears.earthdatacloud.nasa.gov/api/product/{0}'.format(product_id))\n",
    "layer_response = response.json()\n",
    "print(layer_response)"
   ]
  },
  {
   "cell_type": "code",
   "execution_count": null,
   "id": "3138bda2",
   "metadata": {},
   "outputs": [
    {
     "ename": "",
     "evalue": "",
     "output_type": "error",
     "traceback": [
      "\u001b[1;31mRunning cells with '.venv' requires the ipykernel package.\n",
      "\u001b[1;31mRun the following command to install 'ipykernel' into the Python environment. \n",
      "\u001b[1;31mCommand: '/workspace/sytizen/.venv/bin/python -m pip install ipykernel -U --force-reinstall'"
     ]
    }
   ],
   "source": [
    "ranProd = random.choice(product_response)"
   ]
  },
  {
   "cell_type": "code",
   "execution_count": null,
   "id": "53915b16",
   "metadata": {},
   "outputs": [
    {
     "ename": "",
     "evalue": "",
     "output_type": "error",
     "traceback": [
      "\u001b[1;31mRunning cells with '.venv' requires the ipykernel package.\n",
      "\u001b[1;31mRun the following command to install 'ipykernel' into the Python environment. \n",
      "\u001b[1;31mCommand: '/workspace/sytizen/.venv/bin/python -m pip install ipykernel -U --force-reinstall'"
     ]
    }
   ],
   "source": [
    "ranProd"
   ]
  },
  {
   "cell_type": "code",
   "execution_count": null,
   "id": "404bce9c",
   "metadata": {},
   "outputs": [
    {
     "ename": "",
     "evalue": "",
     "output_type": "error",
     "traceback": [
      "\u001b[1;31mRunning cells with '.venv' requires the ipykernel package.\n",
      "\u001b[1;31mRun the following command to install 'ipykernel' into the Python environment. \n",
      "\u001b[1;31mCommand: '/workspace/sytizen/.venv/bin/python -m pip install ipykernel -U --force-reinstall'"
     ]
    }
   ],
   "source": [
    "response = requests.get('https://appeears.earthdatacloud.nasa.gov/api/product/{0}'.format(ranProd['ProductAndVersion']))\n",
    "layer_response = response.json()\n",
    "print(layer_response)"
   ]
  },
  {
   "cell_type": "code",
   "execution_count": null,
   "id": "57832a1b",
   "metadata": {},
   "outputs": [
    {
     "ename": "",
     "evalue": "",
     "output_type": "error",
     "traceback": [
      "\u001b[1;31mRunning cells with '.venv' requires the ipykernel package.\n",
      "\u001b[1;31mRun the following command to install 'ipykernel' into the Python environment. \n",
      "\u001b[1;31mCommand: '/workspace/sytizen/.venv/bin/python -m pip install ipykernel -U --force-reinstall'"
     ]
    }
   ],
   "source": [
    "response = requests.get('https://appeears.earthdatacloud.nasa.gov/api/spatial/proj')\n",
    "proj_response = response.json()\n",
    "print(proj_response)"
   ]
  },
  {
   "cell_type": "code",
   "execution_count": null,
   "id": "caf91572",
   "metadata": {},
   "outputs": [
    {
     "ename": "",
     "evalue": "",
     "output_type": "error",
     "traceback": [
      "\u001b[1;31mRunning cells with '.venv' requires the ipykernel package.\n",
      "\u001b[1;31mRun the following command to install 'ipykernel' into the Python environment. \n",
      "\u001b[1;31mCommand: '/workspace/sytizen/.venv/bin/python -m pip install ipykernel -U --force-reinstall'"
     ]
    }
   ],
   "source": [
    "response = requests.get('https://appeears.earthdatacloud.nasa.gov/api/quality')\n",
    "quality_response = response.json()\n",
    "print(quality_response)"
   ]
  },
  {
   "cell_type": "code",
   "execution_count": null,
   "id": "e0aec767",
   "metadata": {},
   "outputs": [
    {
     "ename": "",
     "evalue": "",
     "output_type": "error",
     "traceback": [
      "\u001b[1;31mRunning cells with '.venv' requires the ipykernel package.\n",
      "\u001b[1;31mRun the following command to install 'ipykernel' into the Python environment. \n",
      "\u001b[1;31mCommand: '/workspace/sytizen/.venv/bin/python -m pip install ipykernel -U --force-reinstall'"
     ]
    }
   ],
   "source": [
    "response = requests.get('https://appeears.earthdatacloud.nasa.gov/api/quality/{0}'.format(ranProd['ProductAndVersion']))\n",
    "quality_response = response.json()\n",
    "print(quality_response)"
   ]
  },
  {
   "cell_type": "code",
   "execution_count": null,
   "id": "2643052c",
   "metadata": {},
   "outputs": [
    {
     "ename": "",
     "evalue": "",
     "output_type": "error",
     "traceback": [
      "\u001b[1;31mRunning cells with '.venv' requires the ipykernel package.\n",
      "\u001b[1;31mRun the following command to install 'ipykernel' into the Python environment. \n",
      "\u001b[1;31mCommand: '/workspace/sytizen/.venv/bin/python -m pip install ipykernel -U --force-reinstall'"
     ]
    }
   ],
   "source": [
    "quality_response[0]['QualityLayers'][0]"
   ]
  },
  {
   "cell_type": "code",
   "execution_count": null,
   "id": "8b4711a6",
   "metadata": {},
   "outputs": [
    {
     "ename": "",
     "evalue": "",
     "output_type": "error",
     "traceback": [
      "\u001b[1;31mRunning cells with '.venv' requires the ipykernel package.\n",
      "\u001b[1;31mRun the following command to install 'ipykernel' into the Python environment. \n",
      "\u001b[1;31mCommand: '/workspace/sytizen/.venv/bin/python -m pip install ipykernel -U --force-reinstall'"
     ]
    }
   ],
   "source": [
    "response = requests.get('https://appeears.earthdatacloud.nasa.gov/api/quality/{0}/{1}'.format(quality_response[0]['ProductAndVersion'], quality_response[0]['QualityLayers'][0]))\n",
    "quality_response = response.json()\n",
    "print(quality_response)"
   ]
  },
  {
   "cell_type": "code",
   "execution_count": null,
   "id": "5f1cd369",
   "metadata": {},
   "outputs": [
    {
     "ename": "",
     "evalue": "",
     "output_type": "error",
     "traceback": [
      "\u001b[1;31mRunning cells with '.venv' requires the ipykernel package.\n",
      "\u001b[1;31mRun the following command to install 'ipykernel' into the Python environment. \n",
      "\u001b[1;31mCommand: '/workspace/sytizen/.venv/bin/python -m pip install ipykernel -U --force-reinstall'"
     ]
    }
   ],
   "source": [
    "quality_value = 0\n",
    "response = requests.get('https://appeears.earthdatacloud.nasa.gov/api/quality/{0}/{1}/{2}'.format(quality_response[0]['ProductAndVersion'], quality_response[0]['QualityLayer'][0], quality_value))\n",
    "quality_response = response.json()\n",
    "print(quality_response)"
   ]
  },
  {
   "cell_type": "code",
   "execution_count": null,
   "id": "14813e90",
   "metadata": {},
   "outputs": [
    {
     "ename": "",
     "evalue": "",
     "output_type": "error",
     "traceback": [
      "\u001b[1;31mRunning cells with '.venv' requires the ipykernel package.\n",
      "\u001b[1;31mRun the following command to install 'ipykernel' into the Python environment. \n",
      "\u001b[1;31mCommand: '/workspace/sytizen/.venv/bin/python -m pip install ipykernel -U --force-reinstall'"
     ]
    }
   ],
   "source": [
    "quality_response[0]['QualityLayer']"
   ]
  },
  {
   "cell_type": "code",
   "execution_count": null,
   "id": "9fae8bc1",
   "metadata": {},
   "outputs": [
    {
     "ename": "",
     "evalue": "",
     "output_type": "error",
     "traceback": [
      "\u001b[1;31mRunning cells with '.venv' requires the ipykernel package.\n",
      "\u001b[1;31mRun the following command to install 'ipykernel' into the Python environment. \n",
      "\u001b[1;31mCommand: '/workspace/sytizen/.venv/bin/python -m pip install ipykernel -U --force-reinstall'"
     ]
    }
   ],
   "source": [
    "data = requests.get('https://www.usda.gov/sites/default/files/documents/data.json')"
   ]
  },
  {
   "cell_type": "code",
   "execution_count": null,
   "id": "2f95f49e",
   "metadata": {},
   "outputs": [
    {
     "ename": "",
     "evalue": "",
     "output_type": "error",
     "traceback": [
      "\u001b[1;31mRunning cells with '.venv' requires the ipykernel package.\n",
      "\u001b[1;31mRun the following command to install 'ipykernel' into the Python environment. \n",
      "\u001b[1;31mCommand: '/workspace/sytizen/.venv/bin/python -m pip install ipykernel -U --force-reinstall'"
     ]
    }
   ],
   "source": [
    "print(data.json()['dataset'][0])"
   ]
  },
  {
   "cell_type": "code",
   "execution_count": null,
   "id": "69985678",
   "metadata": {},
   "outputs": [
    {
     "ename": "",
     "evalue": "",
     "output_type": "error",
     "traceback": [
      "\u001b[1;31mRunning cells with '.venv' requires the ipykernel package.\n",
      "\u001b[1;31mRun the following command to install 'ipykernel' into the Python environment. \n",
      "\u001b[1;31mCommand: '/workspace/sytizen/.venv/bin/python -m pip install ipykernel -U --force-reinstall'"
     ]
    }
   ],
   "source": [
    "data.json()['dataset'][2]"
   ]
  },
  {
   "cell_type": "code",
   "execution_count": null,
   "id": "c921d8bf",
   "metadata": {},
   "outputs": [
    {
     "ename": "",
     "evalue": "",
     "output_type": "error",
     "traceback": [
      "\u001b[1;31mRunning cells with '.venv' requires the ipykernel package.\n",
      "\u001b[1;31mRun the following command to install 'ipykernel' into the Python environment. \n",
      "\u001b[1;31mCommand: '/workspace/sytizen/.venv/bin/python -m pip install ipykernel -U --force-reinstall'"
     ]
    }
   ],
   "source": []
  }
 ],
 "metadata": {
  "kernelspec": {
   "display_name": "Python 3 (ipykernel)",
   "language": "python",
   "name": "python3"
  },
  "language_info": {
   "codemirror_mode": {
    "name": "ipython",
    "version": 3
   },
   "file_extension": ".py",
   "mimetype": "text/x-python",
   "name": "python",
   "nbconvert_exporter": "python",
   "pygments_lexer": "ipython3",
   "version": "3.11.5"
  }
 },
 "nbformat": 4,
 "nbformat_minor": 5
}
