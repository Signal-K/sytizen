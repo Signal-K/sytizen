{
 "cells": [
  {
   "cell_type": "markdown",
   "metadata": {},
   "source": [
    "# Lightcurve Manipulation"
   ]
  },
  {
   "cell_type": "code",
   "execution_count": null,
   "metadata": {},
   "outputs": [],
   "source": [
    "%matplotlib notebook\n",
    "\n",
    "import sys\n",
    "!{sys.executable} -m pip install numpy\n",
    "!{sys.executable} -m pip install lightkurve\n",
    "!{sys.executable} -m pip install matplotlib\n",
    "!{sys.executable} -m pip install astropy\n",
    "\n",
    "import matplotlib.pyplot as plt\n",
    "import lightkurve as lk\n",
    "import astropy\n",
    "import numpy as np"
   ]
  },
  {
   "cell_type": "markdown",
   "metadata": {},
   "source": [
    "## Star Selection"
   ]
  },
  {
   "cell_type": "code",
   "execution_count": 14,
   "metadata": {},
   "outputs": [
    {
     "data": {
      "text/html": [
       "SearchResult containing 1 data products.\n",
       "\n",
       "<table id=\"table6280088448\">\n",
       "<thead><tr><th>#</th><th>mission</th><th>year</th><th>author</th><th>exptime</th><th>target_name</th><th>distance</th></tr></thead>\n",
       "<thead><tr><th></th><th></th><th></th><th></th><th>s</th><th></th><th>arcsec</th></tr></thead>\n",
       "<tr><td>0</td><td>TESS Sector 23</td><td>2020</td><td><a href='https://heasarc.gsfc.nasa.gov/docs/tess/pipeline.html'>SPOC</a></td><td>120</td><td>284475976</td><td>0.0</td></tr>\n",
       "</table>"
      ],
      "text/plain": [
       "SearchResult containing 1 data products.\n",
       "\n",
       " #     mission     year author exptime target_name distance\n",
       "                                  s                 arcsec \n",
       "--- -------------- ---- ------ ------- ----------- --------\n",
       "  0 TESS Sector 23 2020   SPOC     120   284475976      0.0"
      ]
     },
     "execution_count": 14,
     "metadata": {},
     "output_type": "execute_result"
    }
   ],
   "source": [
    "TIC = 'TIC 284475976' # TIC Star ID\n",
    "sector_data = lk.search_lightcurve(TIC, author = 'SPOC', sector = 23) # can remove each arg if needed\n",
    "sector_data"
   ]
  },
  {
   "cell_type": "code",
   "execution_count": 5,
   "metadata": {},
   "outputs": [
    {
     "data": {
      "text/plain": [
       "<AxesSubplot: xlabel='Time - 2457000 [BTJD days]', ylabel='Flux [$\\\\mathrm{e^{-}\\\\,s^{-1}}$]'>"
      ]
     },
     "execution_count": 5,
     "metadata": {},
     "output_type": "execute_result"
    }
   ],
   "source": [
    "lc.plot(linewidth = 0, marker = '.', color = 'lightcyan', alpha = 0.3)"
   ]
  },
  {
   "cell_type": "markdown",
   "metadata": {},
   "source": [
    "## Plotting from multiple sectors"
   ]
  },
  {
   "cell_type": "code",
   "execution_count": 6,
   "metadata": {},
   "outputs": [
    {
     "data": {
      "text/html": [
       "SearchResult containing 24 data products.\n",
       "\n",
       "<table id=\"table10776689584\">\n",
       "<thead><tr><th>#</th><th>mission</th><th>year</th><th>author</th><th>exptime</th><th>target_name</th><th>distance</th></tr></thead>\n",
       "<thead><tr><th></th><th></th><th></th><th></th><th>s</th><th></th><th>arcsec</th></tr></thead>\n",
       "<tr><td>0</td><td>TESS Sector 04</td><td>2018</td><td><a href='https://heasarc.gsfc.nasa.gov/docs/tess/pipeline.html'>SPOC</a></td><td>120</td><td>55525572</td><td>0.0</td></tr>\n",
       "<tr><td>1</td><td>TESS Sector 05</td><td>2018</td><td><a href='https://heasarc.gsfc.nasa.gov/docs/tess/pipeline.html'>SPOC</a></td><td>120</td><td>55525572</td><td>0.0</td></tr>\n",
       "<tr><td>2</td><td>TESS Sector 06</td><td>2018</td><td><a href='https://heasarc.gsfc.nasa.gov/docs/tess/pipeline.html'>SPOC</a></td><td>120</td><td>55525572</td><td>0.0</td></tr>\n",
       "<tr><td>3</td><td>TESS Sector 08</td><td>2019</td><td><a href='https://heasarc.gsfc.nasa.gov/docs/tess/pipeline.html'>SPOC</a></td><td>120</td><td>55525572</td><td>0.0</td></tr>\n",
       "<tr><td>4</td><td>TESS Sector 09</td><td>2019</td><td><a href='https://heasarc.gsfc.nasa.gov/docs/tess/pipeline.html'>SPOC</a></td><td>120</td><td>55525572</td><td>0.0</td></tr>\n",
       "<tr><td>5</td><td>TESS Sector 10</td><td>2019</td><td><a href='https://heasarc.gsfc.nasa.gov/docs/tess/pipeline.html'>SPOC</a></td><td>120</td><td>55525572</td><td>0.0</td></tr>\n",
       "<tr><td>6</td><td>TESS Sector 11</td><td>2019</td><td><a href='https://heasarc.gsfc.nasa.gov/docs/tess/pipeline.html'>SPOC</a></td><td>120</td><td>55525572</td><td>0.0</td></tr>\n",
       "<tr><td>7</td><td>TESS Sector 12</td><td>2019</td><td><a href='https://heasarc.gsfc.nasa.gov/docs/tess/pipeline.html'>SPOC</a></td><td>120</td><td>55525572</td><td>0.0</td></tr>\n",
       "<tr><td>8</td><td>TESS Sector 13</td><td>2019</td><td><a href='https://heasarc.gsfc.nasa.gov/docs/tess/pipeline.html'>SPOC</a></td><td>120</td><td>55525572</td><td>0.0</td></tr>\n",
       "<tr><td>9</td><td>TESS Sector 27</td><td>2020</td><td><a href='https://heasarc.gsfc.nasa.gov/docs/tess/pipeline.html'>SPOC</a></td><td>20</td><td>55525572</td><td>0.0</td></tr>\n",
       "<tr><td>...</td><td>...</td><td>...</td><td>...</td><td>...</td><td>...</td><td>...</td></tr>\n",
       "<tr><td>14</td><td>TESS Sector 30</td><td>2020</td><td><a href='https://heasarc.gsfc.nasa.gov/docs/tess/pipeline.html'>SPOC</a></td><td>120</td><td>55525572</td><td>0.0</td></tr>\n",
       "<tr><td>15</td><td>TESS Sector 31</td><td>2020</td><td><a href='https://heasarc.gsfc.nasa.gov/docs/tess/pipeline.html'>SPOC</a></td><td>120</td><td>55525572</td><td>0.0</td></tr>\n",
       "<tr><td>16</td><td>TESS Sector 32</td><td>2020</td><td><a href='https://heasarc.gsfc.nasa.gov/docs/tess/pipeline.html'>SPOC</a></td><td>120</td><td>55525572</td><td>0.0</td></tr>\n",
       "<tr><td>17</td><td>TESS Sector 33</td><td>2020</td><td><a href='https://heasarc.gsfc.nasa.gov/docs/tess/pipeline.html'>SPOC</a></td><td>120</td><td>55525572</td><td>0.0</td></tr>\n",
       "<tr><td>18</td><td>TESS Sector 34</td><td>2021</td><td><a href='https://heasarc.gsfc.nasa.gov/docs/tess/pipeline.html'>SPOC</a></td><td>120</td><td>55525572</td><td>0.0</td></tr>\n",
       "<tr><td>19</td><td>TESS Sector 35</td><td>2021</td><td><a href='https://heasarc.gsfc.nasa.gov/docs/tess/pipeline.html'>SPOC</a></td><td>120</td><td>55525572</td><td>0.0</td></tr>\n",
       "<tr><td>20</td><td>TESS Sector 36</td><td>2021</td><td><a href='https://heasarc.gsfc.nasa.gov/docs/tess/pipeline.html'>SPOC</a></td><td>120</td><td>55525572</td><td>0.0</td></tr>\n",
       "<tr><td>21</td><td>TESS Sector 37</td><td>2021</td><td><a href='https://heasarc.gsfc.nasa.gov/docs/tess/pipeline.html'>SPOC</a></td><td>120</td><td>55525572</td><td>0.0</td></tr>\n",
       "<tr><td>22</td><td>TESS Sector 38</td><td>2021</td><td><a href='https://heasarc.gsfc.nasa.gov/docs/tess/pipeline.html'>SPOC</a></td><td>120</td><td>55525572</td><td>0.0</td></tr>\n",
       "<tr><td>23</td><td>TESS Sector 39</td><td>2021</td><td><a href='https://heasarc.gsfc.nasa.gov/docs/tess/pipeline.html'>SPOC</a></td><td>120</td><td>55525572</td><td>0.0</td></tr>\n",
       "</table>\n",
       "Length = 24 rows"
      ],
      "text/plain": [
       "SearchResult containing 24 data products.\n",
       "\n",
       " #     mission     year author exptime target_name distance\n",
       "                                  s                 arcsec \n",
       "--- -------------- ---- ------ ------- ----------- --------\n",
       "  0 TESS Sector 04 2018   SPOC     120    55525572      0.0\n",
       "  1 TESS Sector 05 2018   SPOC     120    55525572      0.0\n",
       "  2 TESS Sector 06 2018   SPOC     120    55525572      0.0\n",
       "  3 TESS Sector 08 2019   SPOC     120    55525572      0.0\n",
       "  4 TESS Sector 09 2019   SPOC     120    55525572      0.0\n",
       "  5 TESS Sector 10 2019   SPOC     120    55525572      0.0\n",
       "  6 TESS Sector 11 2019   SPOC     120    55525572      0.0\n",
       "  7 TESS Sector 12 2019   SPOC     120    55525572      0.0\n",
       "  8 TESS Sector 13 2019   SPOC     120    55525572      0.0\n",
       "  9 TESS Sector 27 2020   SPOC      20    55525572      0.0\n",
       "...            ...  ...    ...     ...         ...      ...\n",
       " 14 TESS Sector 30 2020   SPOC     120    55525572      0.0\n",
       " 15 TESS Sector 31 2020   SPOC     120    55525572      0.0\n",
       " 16 TESS Sector 32 2020   SPOC     120    55525572      0.0\n",
       " 17 TESS Sector 33 2020   SPOC     120    55525572      0.0\n",
       " 18 TESS Sector 34 2021   SPOC     120    55525572      0.0\n",
       " 19 TESS Sector 35 2021   SPOC     120    55525572      0.0\n",
       " 20 TESS Sector 36 2021   SPOC     120    55525572      0.0\n",
       " 21 TESS Sector 37 2021   SPOC     120    55525572      0.0\n",
       " 22 TESS Sector 38 2021   SPOC     120    55525572      0.0\n",
       " 23 TESS Sector 39 2021   SPOC     120    55525572      0.0\n",
       "Length = 24 rows"
      ]
     },
     "execution_count": 6,
     "metadata": {},
     "output_type": "execute_result"
    }
   ],
   "source": [
    "TIC_2 = 'TIC 55525572'\n",
    "available_data_all = lk.search_lightcurve(TIC_2, author = 'SPOC')\n",
    "available_data_all"
   ]
  },
  {
   "cell_type": "code",
   "execution_count": 7,
   "metadata": {},
   "outputs": [
    {
     "data": {
      "text/html": [
       "SearchResult containing 4 data products.\n",
       "\n",
       "<table id=\"table10776448640\">\n",
       "<thead><tr><th>#</th><th>mission</th><th>year</th><th>author</th><th>exptime</th><th>target_name</th><th>distance</th></tr></thead>\n",
       "<thead><tr><th></th><th></th><th></th><th></th><th>s</th><th></th><th>arcsec</th></tr></thead>\n",
       "<tr><td>0</td><td>TESS Sector 04</td><td>2018</td><td><a href='https://heasarc.gsfc.nasa.gov/docs/tess/pipeline.html'>SPOC</a></td><td>120</td><td>55525572</td><td>0.0</td></tr>\n",
       "<tr><td>1</td><td>TESS Sector 05</td><td>2018</td><td><a href='https://heasarc.gsfc.nasa.gov/docs/tess/pipeline.html'>SPOC</a></td><td>120</td><td>55525572</td><td>0.0</td></tr>\n",
       "<tr><td>2</td><td>TESS Sector 06</td><td>2018</td><td><a href='https://heasarc.gsfc.nasa.gov/docs/tess/pipeline.html'>SPOC</a></td><td>120</td><td>55525572</td><td>0.0</td></tr>\n",
       "<tr><td>3</td><td>TESS Sector 08</td><td>2019</td><td><a href='https://heasarc.gsfc.nasa.gov/docs/tess/pipeline.html'>SPOC</a></td><td>120</td><td>55525572</td><td>0.0</td></tr>\n",
       "</table>"
      ],
      "text/plain": [
       "SearchResult containing 4 data products.\n",
       "\n",
       " #     mission     year author exptime target_name distance\n",
       "                                  s                 arcsec \n",
       "--- -------------- ---- ------ ------- ----------- --------\n",
       "  0 TESS Sector 04 2018   SPOC     120    55525572      0.0\n",
       "  1 TESS Sector 05 2018   SPOC     120    55525572      0.0\n",
       "  2 TESS Sector 06 2018   SPOC     120    55525572      0.0\n",
       "  3 TESS Sector 08 2019   SPOC     120    55525572      0.0"
      ]
     },
     "execution_count": 7,
     "metadata": {},
     "output_type": "execute_result"
    }
   ],
   "source": [
    "select_sector = available_data_all[0:4]\n",
    "select_sector"
   ]
  },
  {
   "cell_type": "code",
   "execution_count": 8,
   "metadata": {},
   "outputs": [
    {
     "data": {
      "text/plain": [
       "LightCurveCollection of 4 objects:\n",
       "    0: <TessLightCurve LABEL=\"TIC 55525572\" SECTOR=4 AUTHOR=SPOC FLUX_ORIGIN=pdcsap_flux>\n",
       "    1: <TessLightCurve LABEL=\"TIC 55525572\" SECTOR=5 AUTHOR=SPOC FLUX_ORIGIN=pdcsap_flux>\n",
       "    2: <TessLightCurve LABEL=\"TIC 55525572\" SECTOR=6 AUTHOR=SPOC FLUX_ORIGIN=pdcsap_flux>\n",
       "    3: <TessLightCurve LABEL=\"TIC 55525572\" SECTOR=8 AUTHOR=SPOC FLUX_ORIGIN=pdcsap_flux>"
      ]
     },
     "execution_count": 8,
     "metadata": {},
     "output_type": "execute_result"
    }
   ],
   "source": [
    "lc_collection = select_sector.download_all() # download all the sectors ([0:4])\n",
    "lc_collection"
   ]
  },
  {
   "cell_type": "code",
   "execution_count": 9,
   "metadata": {},
   "outputs": [
    {
     "data": {
      "text/plain": [
       "<AxesSubplot: xlabel='Time - 2457000 [BTJD days]', ylabel='Flux [$\\\\mathrm{e^{-}\\\\,s^{-1}}$]'>"
      ]
     },
     "execution_count": 9,
     "metadata": {},
     "output_type": "execute_result"
    }
   ],
   "source": [
    "lc_collection.plot(linewidth = 0, marker = '.')"
   ]
  },
  {
   "cell_type": "markdown",
   "metadata": {},
   "source": [
    "### Normalise graph points"
   ]
  },
  {
   "cell_type": "code",
   "execution_count": 10,
   "metadata": {},
   "outputs": [
    {
     "data": {
      "text/plain": [
       "<AxesSubplot: xlabel='Time - 2457000 [BTJD days]', ylabel='Normalized Flux'>"
      ]
     },
     "execution_count": 10,
     "metadata": {},
     "output_type": "execute_result"
    }
   ],
   "source": [
    "lc_collection_stitched = lc_collection.stitch()\n",
    "lc_collection_stitched.plot(linewidth = 0, marker = '.', color = 'red')\n",
    "lc.normalize().plot()"
   ]
  },
  {
   "cell_type": "markdown",
   "metadata": {},
   "source": []
  },
  {
   "cell_type": "markdown",
   "metadata": {},
   "source": [
    "## Binning Data"
   ]
  },
  {
   "cell_type": "code",
   "execution_count": 11,
   "metadata": {},
   "outputs": [
    {
     "ename": "AttributeError",
     "evalue": "'LightCurveCollection' object has no attribute 'bin'",
     "output_type": "error",
     "traceback": [
      "\u001b[0;31m---------------------------------------------------------------------------\u001b[0m",
      "\u001b[0;31mAttributeError\u001b[0m                            Traceback (most recent call last)",
      "Cell \u001b[0;32mIn [11], line 2\u001b[0m\n\u001b[1;32m      1\u001b[0m bin_time \u001b[38;5;241m=\u001b[39m \u001b[38;5;241m15\u001b[39m\u001b[38;5;241m/\u001b[39m\u001b[38;5;241m24\u001b[39m\u001b[38;5;241m/\u001b[39m\u001b[38;5;241m60\u001b[39m \u001b[38;5;66;03m# LK uses day units, this is 15 minutes over 24 hours\u001b[39;00m\n\u001b[0;32m----> 2\u001b[0m lc_collection_binned \u001b[38;5;241m=\u001b[39m lc_collection\u001b[38;5;241m.\u001b[39mbin(bin_time)\n\u001b[1;32m      3\u001b[0m lc_collection_binned\u001b[38;5;241m.\u001b[39mplot()\n",
      "\u001b[0;31mAttributeError\u001b[0m: 'LightCurveCollection' object has no attribute 'bin'"
     ]
    }
   ],
   "source": [
    "bin_time = 15/24/60 # LK uses day units, this is 15 minutes over 24 hours\n",
    "lc_collection_binned = lc_collection.bin(bin_time)\n",
    "lc_collection_binned.plot()"
   ]
  },
  {
   "cell_type": "markdown",
   "metadata": {},
   "source": [
    "### Plotting Region"
   ]
  },
  {
   "cell_type": "markdown",
   "metadata": {},
   "source": [
    "fig, ax = plt.subplots(figsize = (10, 5))\n",
    "lc_collection.plot(ax = ax, linewidth = 0, marker = 'o', color = 'gold', markerSize = 1)\n",
    "lc_collection_binned.plot(ax = ax, linewidth = 0, marker = 'o', color = 'black', markerSize = 1)"
   ]
  },
  {
   "cell_type": "markdown",
   "metadata": {},
   "source": [
    "## Phase Folding"
   ]
  },
  {
   "cell_type": "code",
   "execution_count": null,
   "metadata": {},
   "outputs": [],
   "source": [
    "available_data_select = lk.search_lightcurve(TIC, author = 'SPOC')[0:9] # Query data, select data from mutliple sectors (e.g. all availablke first year TESS data)\n",
    "lc_collection = available_data_select.download_all().stitch()\n",
    "fig, ax = plt.subplots(figsize = (8,4))\n",
    "lc_collection.plot(ax = ax, linewidth = 0, marker = 'o', color = 'purple', markersize = 1, alpha = 0.7)"
   ]
  },
  {
   "cell_type": "code",
   "execution_count": null,
   "metadata": {},
   "outputs": [],
   "source": [
    "period = 83.8979\n",
    "t0 = 2125.847\n",
    "\n",
    "lc_phased = lc_collection.fold(period = period, epoch_time = t0)\n",
    "lc_phased.plot(linewidth = 0, color = 'gold', marker = '.', markersize = 1, alpha = 0.7)\n",
    "\n",
    "lc_phased_binned = lc_phased.bin(15/24/60)\n",
    "fig, ax = plt.subplots(figsize = (8,5)) # defines a plotting region to plot multiple data sets\n",
    "lc_phased.plot(ax = ax, marker = '.', linewidth = 0, color = 'blue', alpha = 0.4, markersize = 3, label = 'unbinned')\n",
    "lc_phased_binned.plot(ax = ax, marker = 'o', linewidth = 0, color = 'purple', alpha = 0.8, markersize = 6, label = 'binned')\n",
    "\n",
    "plt.xlim(-2, 2) # upper and lower limit for x-axis, zooming in from -40, 40 wide to -2, 2 wide\n",
    "plt.ylim(0.996, 1.004) "
   ]
  }
 ],
 "metadata": {
  "kernelspec": {
   "display_name": "Python 3.10.4 64-bit",
   "language": "python",
   "name": "python3"
  },
  "language_info": {
   "codemirror_mode": {
    "name": "ipython",
    "version": 3
   },
   "file_extension": ".py",
   "mimetype": "text/x-python",
   "name": "python",
   "nbconvert_exporter": "python",
   "pygments_lexer": "ipython3",
   "version": "3.10.4"
  },
  "orig_nbformat": 4,
  "vscode": {
   "interpreter": {
    "hash": "aee8b7b246df8f9039afb4144a1f6fd8d2ca17a180786b69acc140d282b71a49"
   }
  }
 },
 "nbformat": 4,
 "nbformat_minor": 2
}
