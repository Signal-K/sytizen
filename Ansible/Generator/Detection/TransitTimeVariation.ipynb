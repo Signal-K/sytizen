{
 "cells": [
  {
   "cell_type": "code",
   "execution_count": null,
   "metadata": {},
   "outputs": [],
   "source": [
    "def odd_even_phase(lc, period, t0, plot_size = False, same_axes = False, binning = False):\n",
    "    lc = lc.normalise()\n",
    "\n",
    "    if binning != False:\n",
    "        lc = lc.bin(binning/60/24)"
   ]
  }
 ],
 "metadata": {
  "language_info": {
   "name": "python"
  },
  "orig_nbformat": 4
 },
 "nbformat": 4,
 "nbformat_minor": 2
}
