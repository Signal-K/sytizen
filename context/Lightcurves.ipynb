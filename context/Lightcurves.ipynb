{
 "cells": [
  {
   "cell_type": "code",
   "execution_count": 3,
   "metadata": {},
   "outputs": [
    {
     "name": "stderr",
     "output_type": "stream",
     "text": [
      "UsageError: Line magic function `%maptlotlib` not found.\n"
     ]
    }
   ],
   "source": [
    "%maptlotlib inline\n",
    "import lightkurve as lk"
   ]
  },
  {
   "cell_type": "code",
   "execution_count": 5,
   "metadata": {},
   "outputs": [
    {
     "ename": "AttributeError",
     "evalue": "module 'lightkurve' has no attribute 'search_lightkurve'",
     "output_type": "error",
     "traceback": [
      "\u001b[0;31m---------------------------------------------------------------------------\u001b[0m",
      "\u001b[0;31mAttributeError\u001b[0m                            Traceback (most recent call last)",
      "Cell \u001b[0;32mIn[5], line 4\u001b[0m\n\u001b[1;32m      2\u001b[0m \u001b[39mimport\u001b[39;00m \u001b[39mlightkurve\u001b[39;00m \u001b[39mas\u001b[39;00m \u001b[39mlk\u001b[39;00m\n\u001b[1;32m      3\u001b[0m TIC \u001b[39m=\u001b[39m \u001b[39m'\u001b[39m\u001b[39mTIC 470710327\u001b[39m\u001b[39m'\u001b[39m \u001b[39m# Add loop to go through a list of ids (fetched from vector backend)\u001b[39;00m\n\u001b[0;32m----> 4\u001b[0m sector_data \u001b[39m=\u001b[39m lk\u001b[39m.\u001b[39;49msearch_lightkurve(TIC, author \u001b[39m=\u001b[39m \u001b[39m'\u001b[39m\u001b[39mSPOC\u001b[39m\u001b[39m'\u001b[39m, sector \u001b[39m=\u001b[39m \u001b[39m18\u001b[39m)\n\u001b[1;32m      5\u001b[0m sector_data\n",
      "\u001b[0;31mAttributeError\u001b[0m: module 'lightkurve' has no attribute 'search_lightkurve'"
     ]
    }
   ],
   "source": [
    "%matplotlib inline\n",
    "import lightkurve as lk\n",
    "TIC = 'TIC 470710327' # Add loop to go through a list of ids (fetched from vector backend)\n",
    "sector_data = lk.search_lightkurve(TIC, author = 'SPOC', sector = 18)\n",
    "sector_data"
   ]
  },
  {
   "cell_type": "code",
   "execution_count": 6,
   "metadata": {},
   "outputs": [
    {
     "ename": "SyntaxError",
     "evalue": "invalid syntax (871570503.py, line 2)",
     "output_type": "error",
     "traceback": [
      "\u001b[0;36m  Cell \u001b[0;32mIn[6], line 2\u001b[0;36m\u001b[0m\n\u001b[0;31m    lc = lk.search_lightkurve(TIC, author = 'SPOC'. sector = 18).download()\u001b[0m\n\u001b[0m                                                           ^\u001b[0m\n\u001b[0;31mSyntaxError\u001b[0m\u001b[0;31m:\u001b[0m invalid syntax\n"
     ]
    }
   ],
   "source": [
    "lc = sector_data.download()\n",
    "lc = lk.search_lightkurve(TIC, author = 'SPOC'. sector = 18).download()\n",
    "lc = lc.remove_nans().remove_outliers() # lc.to_fits(path='lightcurve.fits)\n",
    "lc"
   ]
  },
  {
   "cell_type": "code",
   "execution_count": null,
   "metadata": {},
   "outputs": [],
   "source": [
    "available_data = lk.search_lightkurve(TIC, author = 'SPOC')\n",
    "available_data"
   ]
  },
  {
   "cell_type": "code",
   "execution_count": null,
   "metadata": {},
   "outputs": [],
   "source": [
    "select_sectors = available_data[0:4]\n",
    "lc_collection = select_sectors.download_all()\n",
    "lc_collection.plot()"
   ]
  }
 ],
 "metadata": {
  "kernelspec": {
   "display_name": "Python 3",
   "language": "python",
   "name": "python3"
  },
  "language_info": {
   "codemirror_mode": {
    "name": "ipython",
    "version": 3
   },
   "file_extension": ".py",
   "mimetype": "text/x-python",
   "name": "python",
   "nbconvert_exporter": "python",
   "pygments_lexer": "ipython3",
   "version": "3.11.1"
  },
  "orig_nbformat": 4
 },
 "nbformat": 4,
 "nbformat_minor": 2
}
