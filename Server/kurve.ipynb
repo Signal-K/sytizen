{
 "cells": [
  {
   "cell_type": "code",
   "execution_count": null,
   "metadata": {},
   "outputs": [],
   "source": [
    "#%matplotlib notebook\n",
    "# github.com/signal-k/polygon\n",
    "!pip install lightkurve\n",
    "\n",
    "import matplotlib.pyplot as plt\n",
    "import lightkurve as lk\n",
    "\n",
    "TIC = 'TIC 284475976' # TIC Star ID\n",
    "sector_data = lk.search_lightcurve(TIC, author = 'SPOC', sector = 23) # can remove each arg if needed\n",
    "sector_data\n",
    "lc = sector_data.download()\n",
    "lc.plot()\n",
    "\n",
    "lc.plot(linewidth = 0, marker = '.', color = 'lightcyan', alpha = 0.3)\n",
    "\n",
    "TIC_2 = 'TIC 55525572'\n",
    "available_data_all = lk.search_lightcurve(TIC_2, author = 'SPOC')\n",
    "available_data_all\n",
    "\n",
    "select_sector = available_data_all[0:4]\n",
    "select_sector\n",
    "\n",
    "lc_collection = select_sector.download_all() # download all the sectors ([0:4])\n",
    "lc_collection\n",
    "\n",
    "lc_collection.plot(linewidth = 0, marker = '.')\n",
    "\n",
    "lc_collection_stitched = lc_collection.stitch()\n",
    "lc_collection_stitched.plot(linewidth = 0, marker = '.', color = 'red')\n",
    "\n",
    "lc.normalize().plot()\n",
    "normalized_lc = lc.normalize()"
   ]
  }
 ],
 "metadata": {
  "kernelspec": {
   "display_name": "Python 3",
   "language": "python",
   "name": "python3"
  },
  "language_info": {
   "name": "python",
   "version": "3.10.8 (main, Oct 13 2022, 09:48:40) [Clang 14.0.0 (clang-1400.0.29.102)]"
  },
  "orig_nbformat": 4,
  "vscode": {
   "interpreter": {
    "hash": "b0fa6594d8f4cbf19f97940f81e996739fb7646882a419484c72d19e05852a7e"
   }
  }
 },
 "nbformat": 4,
 "nbformat_minor": 2
}
